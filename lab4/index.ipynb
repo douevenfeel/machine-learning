{
    "cells": [
        {
            "cell_type": "code",
            "execution_count": 19,
            "metadata": {},
            "outputs": [],
            "source": [
                "import math\n",
                "from operator import itemgetter\n",
                "\n",
                "import numpy as np\n",
                "import pandas as pd\n",
                "from io import StringIO\n",
                "import graphviz\n",
                "import pydotplus\n",
                "from typing import Dict, Tuple\n",
                "\n",
                "from scipy import stats\n",
                "from sklearn.model_selection import train_test_split\n",
                "from sklearn.metrics import accuracy_score, balanced_accuracy_score\n",
                "from sklearn.metrics._classification import classification_report\n",
                "from sklearn.metrics import confusion_matrix\n",
                "from sklearn.linear_model import SGDClassifier\n",
                "from sklearn.metrics import confusion_matrix, plot_confusion_matrix, ConfusionMatrixDisplay\n",
                "from sklearn.linear_model import LogisticRegression\n",
                "from sklearn.metrics import roc_curve, roc_auc_score\n",
                "from sklearn.model_selection import cross_val_score, cross_validate\n",
                "from sklearn.svm import SVC, NuSVC, LinearSVC\n",
                "from sklearn.tree import DecisionTreeClassifier, DecisionTreeRegressor, export_graphviz\n",
                "from sklearn.model_selection import GridSearchCV\n",
                "from sklearn.compose import ColumnTransformer\n",
                "from sklearn.preprocessing import OneHotEncoder, MinMaxScaler, StandardScaler\n",
                "from sklearn.preprocessing import LabelEncoder\n",
                "from IPython.core.display import HTML\n",
                "from sklearn.tree import export_text\n",
                "import seaborn as sns\n",
                "import matplotlib.pyplot as plt\n",
                "%matplotlib inline\n",
                "sns.set(style=\"ticks\")"
            ]
        },
        {
            "attachments": {},
            "cell_type": "markdown",
            "metadata": {},
            "source": [
                "# Спецификация\n",
                "<li> age - возраст\n",
                "<li> sex - пол\n",
                "<li> cp - тип боли в груди\n",
                "<li> trestbps - артериальное давление в покое\n",
                "<li> chol - холестерин сыворотки\n",
                "<li> fbs - уровень сахара в крови натощак\n",
                "<li> restecg - результаты электрокардиографии в покое\n",
                "<li> thalach - максимальная частота сердечных сокращений\n",
                "<li> exang - стенокардия, вызванная физической нагрузкой (1 - да, 0 - нет)\n",
                "<li> oldpeak - депрессия, вызванная физической нагрузкой, по сравнению с состоянием пока \n",
                "<li> slope - наклон пикового сегмента при нагрузке\n",
                "<li> ca - количество крупных сосудов (0 - 3), окрашенных при флюороскопии\n",
                "<li> thal - 1 - нормальный, 2 - фиксированный дефект, 3 - обратимый дефект\n",
                "<li> target - 1 или 0"
            ]
        },
        {
            "cell_type": "code",
            "execution_count": 20,
            "metadata": {},
            "outputs": [],
            "source": [
                "data=pd.read_csv('../datasets/heart.csv')"
            ]
        },
        {
            "cell_type": "code",
            "execution_count": 21,
            "metadata": {},
            "outputs": [
                {
                    "data": {
                        "text/html": [
                            "<div>\n",
                            "<style scoped>\n",
                            "    .dataframe tbody tr th:only-of-type {\n",
                            "        vertical-align: middle;\n",
                            "    }\n",
                            "\n",
                            "    .dataframe tbody tr th {\n",
                            "        vertical-align: top;\n",
                            "    }\n",
                            "\n",
                            "    .dataframe thead th {\n",
                            "        text-align: right;\n",
                            "    }\n",
                            "</style>\n",
                            "<table border=\"1\" class=\"dataframe\">\n",
                            "  <thead>\n",
                            "    <tr style=\"text-align: right;\">\n",
                            "      <th></th>\n",
                            "      <th>age</th>\n",
                            "      <th>sex</th>\n",
                            "      <th>cp</th>\n",
                            "      <th>trestbps</th>\n",
                            "      <th>chol</th>\n",
                            "      <th>fbs</th>\n",
                            "      <th>restecg</th>\n",
                            "      <th>thalach</th>\n",
                            "      <th>exang</th>\n",
                            "      <th>oldpeak</th>\n",
                            "      <th>slope</th>\n",
                            "      <th>ca</th>\n",
                            "      <th>thal</th>\n",
                            "      <th>target</th>\n",
                            "    </tr>\n",
                            "  </thead>\n",
                            "  <tbody>\n",
                            "    <tr>\n",
                            "      <th>0</th>\n",
                            "      <td>52.0</td>\n",
                            "      <td>1</td>\n",
                            "      <td>0</td>\n",
                            "      <td>125.0</td>\n",
                            "      <td>212.0</td>\n",
                            "      <td>0.0</td>\n",
                            "      <td>1</td>\n",
                            "      <td>168.0</td>\n",
                            "      <td>0.0</td>\n",
                            "      <td>1.0</td>\n",
                            "      <td>2</td>\n",
                            "      <td>2</td>\n",
                            "      <td>3.0</td>\n",
                            "      <td>0.0</td>\n",
                            "    </tr>\n",
                            "    <tr>\n",
                            "      <th>1</th>\n",
                            "      <td>53.0</td>\n",
                            "      <td>1</td>\n",
                            "      <td>0</td>\n",
                            "      <td>NaN</td>\n",
                            "      <td>203.0</td>\n",
                            "      <td>1.0</td>\n",
                            "      <td>0</td>\n",
                            "      <td>155.0</td>\n",
                            "      <td>1.0</td>\n",
                            "      <td>3.1</td>\n",
                            "      <td>0</td>\n",
                            "      <td>0</td>\n",
                            "      <td>3.0</td>\n",
                            "      <td>0.0</td>\n",
                            "    </tr>\n",
                            "    <tr>\n",
                            "      <th>2</th>\n",
                            "      <td>70.0</td>\n",
                            "      <td>1</td>\n",
                            "      <td>0</td>\n",
                            "      <td>145.0</td>\n",
                            "      <td>NaN</td>\n",
                            "      <td>0.0</td>\n",
                            "      <td>1</td>\n",
                            "      <td>125.0</td>\n",
                            "      <td>1.0</td>\n",
                            "      <td>2.6</td>\n",
                            "      <td>0</td>\n",
                            "      <td>0</td>\n",
                            "      <td>3.0</td>\n",
                            "      <td>0.0</td>\n",
                            "    </tr>\n",
                            "    <tr>\n",
                            "      <th>3</th>\n",
                            "      <td>61.0</td>\n",
                            "      <td>1</td>\n",
                            "      <td>0</td>\n",
                            "      <td>148.0</td>\n",
                            "      <td>203.0</td>\n",
                            "      <td>0.0</td>\n",
                            "      <td>1</td>\n",
                            "      <td>161.0</td>\n",
                            "      <td>0.0</td>\n",
                            "      <td>0.0</td>\n",
                            "      <td>2</td>\n",
                            "      <td>1</td>\n",
                            "      <td>3.0</td>\n",
                            "      <td>0.0</td>\n",
                            "    </tr>\n",
                            "    <tr>\n",
                            "      <th>4</th>\n",
                            "      <td>62.0</td>\n",
                            "      <td>0</td>\n",
                            "      <td>0</td>\n",
                            "      <td>138.0</td>\n",
                            "      <td>294.0</td>\n",
                            "      <td>1.0</td>\n",
                            "      <td>1</td>\n",
                            "      <td>NaN</td>\n",
                            "      <td>0.0</td>\n",
                            "      <td>1.9</td>\n",
                            "      <td>1</td>\n",
                            "      <td>3</td>\n",
                            "      <td>2.0</td>\n",
                            "      <td>0.0</td>\n",
                            "    </tr>\n",
                            "  </tbody>\n",
                            "</table>\n",
                            "</div>"
                        ],
                        "text/plain": [
                            "    age  sex  cp  trestbps   chol  fbs  restecg  thalach  exang  oldpeak  \\\n",
                            "0  52.0    1   0     125.0  212.0  0.0        1    168.0    0.0      1.0   \n",
                            "1  53.0    1   0       NaN  203.0  1.0        0    155.0    1.0      3.1   \n",
                            "2  70.0    1   0     145.0    NaN  0.0        1    125.0    1.0      2.6   \n",
                            "3  61.0    1   0     148.0  203.0  0.0        1    161.0    0.0      0.0   \n",
                            "4  62.0    0   0     138.0  294.0  1.0        1      NaN    0.0      1.9   \n",
                            "\n",
                            "   slope  ca  thal  target  \n",
                            "0      2   2   3.0     0.0  \n",
                            "1      0   0   3.0     0.0  \n",
                            "2      0   0   3.0     0.0  \n",
                            "3      2   1   3.0     0.0  \n",
                            "4      1   3   2.0     0.0  "
                        ]
                    },
                    "execution_count": 21,
                    "metadata": {},
                    "output_type": "execute_result"
                }
            ],
            "source": [
                "data.head()"
            ]
        },
        {
            "cell_type": "code",
            "execution_count": 22,
            "metadata": {},
            "outputs": [
                {
                    "name": "stdout",
                    "output_type": "stream",
                    "text": [
                        "<class 'pandas.core.frame.DataFrame'>\n",
                        "RangeIndex: 1025 entries, 0 to 1024\n",
                        "Data columns (total 14 columns):\n",
                        " #   Column    Non-Null Count  Dtype  \n",
                        "---  ------    --------------  -----  \n",
                        " 0   age       1022 non-null   float64\n",
                        " 1   sex       1025 non-null   int64  \n",
                        " 2   cp        1025 non-null   int64  \n",
                        " 3   trestbps  1008 non-null   float64\n",
                        " 4   chol      1007 non-null   float64\n",
                        " 5   fbs       1021 non-null   float64\n",
                        " 6   restecg   1025 non-null   int64  \n",
                        " 7   thalach   1015 non-null   float64\n",
                        " 8   exang     1023 non-null   float64\n",
                        " 9   oldpeak   1025 non-null   float64\n",
                        " 10  slope     1025 non-null   int64  \n",
                        " 11  ca        1025 non-null   int64  \n",
                        " 12  thal      1024 non-null   float64\n",
                        " 13  target    1024 non-null   float64\n",
                        "dtypes: float64(9), int64(5)\n",
                        "memory usage: 112.2 KB\n"
                    ]
                }
            ],
            "source": [
                "data.info()"
            ]
        },
        {
            "cell_type": "code",
            "execution_count": 23,
            "metadata": {},
            "outputs": [
                {
                    "data": {
                        "text/plain": [
                            "age          3\n",
                            "sex          0\n",
                            "cp           0\n",
                            "trestbps    17\n",
                            "chol        18\n",
                            "fbs          4\n",
                            "restecg      0\n",
                            "thalach     10\n",
                            "exang        2\n",
                            "oldpeak      0\n",
                            "slope        0\n",
                            "ca           0\n",
                            "thal         1\n",
                            "target       1\n",
                            "dtype: int64"
                        ]
                    },
                    "execution_count": 23,
                    "metadata": {},
                    "output_type": "execute_result"
                }
            ],
            "source": [
                "data.isna().sum()"
            ]
        },
        {
            "cell_type": "code",
            "execution_count": 24,
            "metadata": {},
            "outputs": [
                {
                    "data": {
                        "text/plain": [
                            "age         0\n",
                            "sex         0\n",
                            "cp          0\n",
                            "trestbps    0\n",
                            "chol        0\n",
                            "fbs         0\n",
                            "restecg     0\n",
                            "thalach     0\n",
                            "exang       0\n",
                            "oldpeak     0\n",
                            "slope       0\n",
                            "ca          0\n",
                            "thal        0\n",
                            "target      0\n",
                            "dtype: int64"
                        ]
                    },
                    "execution_count": 24,
                    "metadata": {},
                    "output_type": "execute_result"
                }
            ],
            "source": [
                "data=data.dropna()\n",
                "data.isna().sum()"
            ]
        },
        {
            "cell_type": "code",
            "execution_count": 25,
            "metadata": {},
            "outputs": [
                {
                    "name": "stdout",
                    "output_type": "stream",
                    "text": [
                        "disease: \n",
                        "          count        mean        std    min    25%    50%    75%    max\n",
                        "age       503.0   52.405567   9.623310   29.0   44.0   52.0   59.0   76.0\n",
                        "sex       503.0    0.572565   0.495199    0.0    0.0    1.0    1.0    1.0\n",
                        "cp        503.0    1.363817   0.949336    0.0    1.0    2.0    2.0    3.0\n",
                        "trestbps  503.0  129.292247  16.277599   94.0  120.0  130.0  140.0  180.0\n",
                        "chol      503.0  240.510934  52.949004  126.0  208.0  234.0  265.0  564.0\n",
                        "fbs       503.0    0.135189   0.342266    0.0    0.0    0.0    0.0    1.0\n",
                        "restecg   503.0    0.598410   0.502739    0.0    0.0    1.0    1.0    2.0\n",
                        "thalach   503.0  158.610338  18.923290   96.0  149.0  161.0  172.0  202.0\n",
                        "exang     503.0    0.135189   0.342266    0.0    0.0    0.0    0.0    1.0\n",
                        "oldpeak   503.0    0.557654   0.768021    0.0    0.0    0.2    1.0    4.2\n",
                        "slope     503.0    1.596421   0.580345    0.0    1.0    2.0    2.0    2.0\n",
                        "ca        503.0    0.375746   0.883654    0.0    0.0    0.0    0.0    4.0\n",
                        "thal      503.0    2.119284   0.469896    0.0    2.0    2.0    2.0    3.0\n",
                        "target    503.0    1.000000   0.000000    1.0    1.0    1.0    1.0    1.0\n"
                    ]
                }
            ],
            "source": [
                "print('disease: ')\n",
                "print(data[data['target']==1].describe().T)"
            ]
        },
        {
            "cell_type": "code",
            "execution_count": 26,
            "metadata": {},
            "outputs": [
                {
                    "name": "stdout",
                    "output_type": "stream",
                    "text": [
                        "no disease: \n",
                        "          count        mean        std    min    25%    50%    75%    max\n",
                        "age       467.0   56.436831   7.985621   35.0   52.0   58.0   62.0   77.0\n",
                        "sex       467.0    0.835118   0.371472    0.0    1.0    1.0    1.0    1.0\n",
                        "cp        467.0    0.479657   0.906056    0.0    0.0    0.0    0.0    3.0\n",
                        "trestbps  467.0  134.044968  18.716547  100.0  120.0  130.0  144.0  200.0\n",
                        "chol      467.0  251.102784  49.252591  131.0  217.0  249.0  284.0  409.0\n",
                        "fbs       467.0    0.162741   0.369525    0.0    0.0    0.0    0.0    1.0\n",
                        "restecg   467.0    0.451820   0.543526    0.0    0.0    0.0    1.0    2.0\n",
                        "thalach   467.0  138.854390  22.875015   71.0  125.0  142.0  156.5  195.0\n",
                        "exang     467.0    0.552463   0.497773    0.0    0.0    1.0    1.0    1.0\n",
                        "oldpeak   467.0    1.593790   1.287953    0.0    0.6    1.4    2.5    6.2\n",
                        "slope     467.0    1.171306   0.564119    0.0    1.0    1.0    2.0    2.0\n",
                        "ca        467.0    1.175589   1.029190    0.0    0.0    1.0    2.0    4.0\n",
                        "thal      467.0    2.537473   0.684115    0.0    2.0    3.0    3.0    3.0\n",
                        "target    467.0    0.000000   0.000000    0.0    0.0    0.0    0.0    0.0\n"
                    ]
                }
            ],
            "source": [
                "print('no disease: ')\n",
                "print(data[data['target']==0].describe().T)"
            ]
        },
        {
            "attachments": {},
            "cell_type": "markdown",
            "metadata": {},
            "source": [
                "### Вывод на основе отличий признаков у людей с болезнями и без них\n",
                "\n",
                "<li> Средний возраст практически не отличается\n",
                "<li> Заболеваний меньше всего у мужчин, при наличии заболевания 57% мужчины, 43% женщины\n",
                "<li> Артериальное давление в покое не отличается - 134 без заболевания и 129 с заболеванием\n",
                "<li> Холестерин почти не отличается - 251 без заболевания и 240 с заболеванием\n",
                "<li> Уровень сахара в крови натощак слабо отличается - 0.16 без заболевания и 0.135 с заболеванием\n",
                "<li> Стенокардия, вызванная физической нагрузкой, более распространена у людей без заболевания - 0.55 и 0.135 у людей с заболеванием\n",
                "<li> Депрессия, вызванная физической нагрузкой, по сравнению с состоянием покоя выше у людей без заболевания - 1.59 и 0.56 у людей с заболеванием\n",
                "<li> У людей без заболевание количество крупных сосудов больше, чем у людей с заболеванием - 1.17 и 0.375"
            ]
        },
        {
            "attachments": {},
            "cell_type": "markdown",
            "metadata": {},
            "source": [
                "С использованием метода train_test_split разделим выборку на обучающую и тестовую\n",
                "\n",
                "Построим модель бинарной классификации пользователей, где целевой признак - наличие сердечного заболевания"
            ]
        },
        {
            "cell_type": "code",
            "execution_count": 27,
            "metadata": {},
            "outputs": [],
            "source": [
                "x = data.drop(['target'], axis = 1)\n",
                "y = data['target']\n",
                "x_train, x_test, y_train, y_test = train_test_split(x, y, test_size=0.2, random_state=0)\n",
                "scaler = StandardScaler()\n",
                "x_train_st = scaler.fit_transform(x_train)\n",
                "x_test_st = scaler.transform(x_test)"
            ]
        },
        {
            "attachments": {},
            "cell_type": "markdown",
            "metadata": {},
            "source": [
                "Логическая регрессия"
            ]
        },
        {
            "cell_type": "code",
            "execution_count": 28,
            "metadata": {},
            "outputs": [
                {
                    "data": {
                        "text/plain": [
                            "(array([[52.,  1.,  0., ...,  2.,  2.,  3.],\n",
                            "        [61.,  1.,  0., ...,  2.,  1.,  3.],\n",
                            "        [58.,  0.,  0., ...,  1.,  0.,  2.],\n",
                            "        ...,\n",
                            "        [47.,  1.,  0., ...,  1.,  1.,  2.],\n",
                            "        [50.,  0.,  0., ...,  2.,  0.,  2.],\n",
                            "        [54.,  1.,  0., ...,  1.,  1.,  3.]]),\n",
                            " array([0., 0., 1., 0., 0., 0., 0., 1., 0., 1., 0., 0., 1., 0., 1., 1., 1.,\n",
                            "        1., 1., 1., 1., 0., 0., 0., 0., 1., 0., 1., 1., 1., 1., 1., 0., 0.,\n",
                            "        1., 1., 1., 0., 1., 0., 1., 0., 0., 0., 1., 1., 0., 0., 1., 1., 0.,\n",
                            "        1., 1., 0., 1., 0., 1., 0., 0., 0., 0., 0., 1., 1., 0., 1., 1., 0.,\n",
                            "        0., 0., 1., 1., 1., 1., 0., 0., 0., 1., 0., 0., 1., 1., 1., 0., 0.,\n",
                            "        1., 1., 1., 1., 1., 1., 0., 0., 0., 0., 0., 0., 1., 0., 0., 0., 0.,\n",
                            "        0., 1., 1., 1., 0., 0., 1., 0., 1., 1., 1., 1., 1., 1., 1., 1., 1.,\n",
                            "        1., 0., 1., 1., 1., 0., 0., 1., 0., 1., 0., 1., 1., 0., 0., 1., 0.,\n",
                            "        1., 1., 1., 1., 1., 0., 1., 0., 0., 0., 0., 0., 1., 1., 1., 1., 0.,\n",
                            "        1., 1., 0., 0., 0., 0., 0., 0., 0., 1., 0., 1., 1., 0., 0., 0., 0.,\n",
                            "        0., 1., 1., 1., 1., 0., 1., 0., 1., 1., 0., 1., 1., 1., 1., 1., 1.,\n",
                            "        0., 1., 0., 0., 0., 1., 1., 1., 1., 0., 0., 0., 0., 1., 1., 1., 1.,\n",
                            "        0., 1., 1., 0., 0., 1., 0., 1., 1., 1., 0., 0., 0., 0., 1., 0., 1.,\n",
                            "        0., 1., 1., 0., 0., 1., 1., 0., 1., 0., 0., 0., 1., 1., 1., 0., 1.,\n",
                            "        1., 1., 1., 1., 0., 1., 0., 0., 0., 1., 1., 1., 1., 0., 1., 0., 1.,\n",
                            "        1., 0., 1., 1., 1., 1., 1., 0., 1., 1., 1., 1., 0., 1., 0., 1., 1.,\n",
                            "        0., 0., 0., 0., 1., 1., 1., 1., 1., 1., 0., 1., 1., 1., 0., 0., 0.,\n",
                            "        1., 1., 1., 0., 1., 1., 1., 0., 0., 1., 1., 0., 0., 0., 1., 1., 0.,\n",
                            "        1., 1., 0., 0., 1., 1., 0., 0., 1., 1., 1., 1., 1., 0., 0., 1., 0.,\n",
                            "        0., 1., 0., 0., 1., 0., 1., 0., 0., 0., 1., 1., 1., 1., 1., 0., 1.,\n",
                            "        0., 0., 1., 1., 0., 0., 1., 0., 1., 1., 1., 0., 1., 0., 0., 0., 0.,\n",
                            "        0., 1., 1., 0., 0., 1., 0., 0., 1., 0., 0., 1., 0., 0., 1., 1., 0.,\n",
                            "        1., 1., 1., 0., 0., 1., 0., 1., 0., 1., 0., 0., 0., 0., 1., 1., 1.,\n",
                            "        1., 1., 1., 1., 1., 0., 0., 0., 1., 1., 0., 0., 0., 0., 1., 1., 1.,\n",
                            "        1., 0., 0., 1., 0., 0., 0., 0., 1., 1., 1., 1., 0., 1., 0., 0., 1.,\n",
                            "        0., 1., 0., 1., 0., 1., 1., 1., 0., 1., 1., 1., 1., 1., 1., 0., 1.,\n",
                            "        0., 1., 1., 1., 1., 1., 0., 0., 1., 0., 0., 0., 1., 0., 0., 0., 1.,\n",
                            "        1., 1., 1., 0., 0., 1., 1., 0., 0., 1., 1., 1., 1., 1., 1., 0., 1.,\n",
                            "        0., 1., 0., 0., 1., 0., 0., 0., 1., 0., 0., 1., 0., 0., 0., 1., 1.,\n",
                            "        0., 1., 0., 1., 1., 1., 1., 0., 1., 1., 1., 1., 1., 0., 1., 0., 1.,\n",
                            "        1., 0., 1., 0., 0., 1., 1., 1., 0., 0., 0., 1., 0., 0., 0., 1., 1.,\n",
                            "        0., 1., 1., 1., 0., 0., 1., 1., 1., 1., 1., 0., 1., 0., 1., 1., 0.,\n",
                            "        1., 0., 1., 1., 1., 0., 0., 1., 0., 0., 0., 0., 1., 0., 0., 0., 0.,\n",
                            "        0., 1., 1., 0., 1., 0., 0., 1., 1., 1., 1., 0., 0., 0., 0., 0., 0.,\n",
                            "        0., 0., 0., 1., 1., 1., 1., 0., 0., 0., 0., 0., 1., 0., 0., 0., 1.,\n",
                            "        0., 0., 1., 1., 0., 0., 1., 0., 1., 0., 1., 1., 0., 1., 1., 1., 0.,\n",
                            "        0., 1., 1., 0., 1., 1., 0., 1., 1., 0., 1., 0., 1., 0., 0., 1., 1.,\n",
                            "        1., 1., 1., 1., 0., 0., 0., 1., 1., 0., 0., 0., 1., 0., 1., 0., 0.,\n",
                            "        0., 0., 0., 0., 0., 0., 1., 1., 1., 0., 1., 0., 0., 1., 0., 0., 0.,\n",
                            "        1., 0., 1., 1., 1., 0., 0., 1., 1., 0., 1., 0., 1., 1., 1., 1., 0.,\n",
                            "        0., 1., 1., 0., 1., 1., 1., 1., 0., 0., 1., 0., 1., 1., 0., 1., 1.,\n",
                            "        0., 1., 0., 0., 0., 0., 1., 1., 0., 1., 1., 1., 0., 0., 1., 1., 1.,\n",
                            "        1., 1., 1., 1., 1., 0., 1., 1., 0., 0., 1., 1., 1., 0., 0., 0., 0.,\n",
                            "        1., 1., 1., 1., 0., 0., 1., 1., 0., 0., 0., 1., 0., 0., 1., 1., 1.,\n",
                            "        0., 0., 0., 0., 0., 0., 0., 0., 1., 1., 0., 0., 1., 0., 0., 1., 1.,\n",
                            "        0., 1., 1., 0., 0., 0., 1., 1., 1., 1., 1., 0., 0., 0., 0., 1., 0.,\n",
                            "        1., 1., 0., 1., 0., 1., 1., 1., 0., 0., 0., 1., 1., 1., 1., 0., 1.,\n",
                            "        0., 0., 0., 0., 1., 0., 1., 0., 0., 1., 0., 0., 0., 1., 1., 1., 1.,\n",
                            "        0., 0., 0., 0., 1., 1., 1., 1., 1., 1., 0., 0., 0., 1., 0., 1., 1.,\n",
                            "        0., 0., 0., 0., 0., 0., 1., 0., 0., 0., 1., 0., 0., 0., 0., 1., 1.,\n",
                            "        1., 1., 0., 1., 0., 0., 1., 0., 1., 1., 0., 0., 0., 0., 0., 1., 0.,\n",
                            "        0., 0., 1., 0., 0., 0., 0., 1., 1., 0., 0., 0., 1., 0., 0., 0., 1.,\n",
                            "        1., 1., 0., 1., 1., 1., 1., 0., 1., 0., 1., 0., 0., 1., 1., 1., 1.,\n",
                            "        1., 0., 1., 1., 1., 1., 1., 0., 1., 1., 0., 1., 0., 1., 1., 1., 1.,\n",
                            "        1., 1., 0., 0., 1., 0., 0., 1., 0., 1., 1., 1., 1., 0., 0., 0., 1.,\n",
                            "        1., 0., 1., 0., 0., 1., 0., 0., 0., 0., 0., 1., 0., 1., 1., 0., 1.,\n",
                            "        1., 1., 0., 0., 1., 0., 0., 1., 0., 0., 0., 0., 1., 1., 0., 0., 1.,\n",
                            "        0.]))"
                        ]
                    },
                    "execution_count": 28,
                    "metadata": {},
                    "output_type": "execute_result"
                }
            ],
            "source": [
                "# Разбиение на матрицу объекты-признаки и целевой признак (таргет)\n",
                "X = data.drop(\"target\", axis=1).values\n",
                "y = data[\"target\"].values\n",
                "X, y"
            ]
        },
        {
            "cell_type": "code",
            "execution_count": 29,
            "metadata": {},
            "outputs": [],
            "source": [
                "X_train, X_test, y_train, y_test = train_test_split(X, y, test_size = 0.1, random_state = 9)"
            ]
        },
        {
            "cell_type": "code",
            "execution_count": 30,
            "metadata": {},
            "outputs": [
                {
                    "name": "stdout",
                    "output_type": "stream",
                    "text": [
                        "              precision    recall  f1-score   support\n",
                        "\n",
                        "         0.0       0.89      0.81      0.85       427\n",
                        "         1.0       0.83      0.90      0.87       446\n",
                        "\n",
                        "    accuracy                           0.86       873\n",
                        "   macro avg       0.86      0.86      0.86       873\n",
                        "weighted avg       0.86      0.86      0.86       873\n",
                        "               precision    recall  f1-score   support\n",
                        "\n",
                        "         0.0       0.83      0.95      0.88        40\n",
                        "         1.0       0.96      0.86      0.91        57\n",
                        "\n",
                        "    accuracy                           0.90        97\n",
                        "   macro avg       0.89      0.90      0.90        97\n",
                        "weighted avg       0.91      0.90      0.90        97\n",
                        "\n",
                        "CPU times: total: 125 ms\n",
                        "Wall time: 1.08 s\n"
                    ]
                }
            ],
            "source": [
                "%%time\n",
                "log_reg = LogisticRegression(max_iter=10000)\n",
                "log_reg.fit(X_train, y_train)\n",
                "y_pred_test_log_reg = log_reg.predict(X_test)\n",
                "y_pred_train_log_reg = log_reg.predict(X_train)\n",
                "print(classification_report(y_train, y_pred_train_log_reg), classification_report(y_test, y_pred_test_log_reg))"
            ]
        },
        {
            "cell_type": "code",
            "execution_count": 31,
            "metadata": {},
            "outputs": [
                {
                    "name": "stdout",
                    "output_type": "stream",
                    "text": [
                        "CPU times: total: 5.2 s\n",
                        "Wall time: 27 s\n"
                    ]
                },
                {
                    "data": {
                        "text/plain": [
                            "0.8470985155195683"
                        ]
                    },
                    "execution_count": 31,
                    "metadata": {},
                    "output_type": "execute_result"
                }
            ],
            "source": [
                "%%time\n",
                "# Оценка модели с применением кросс-валидации\n",
                "scores_log_reg = cross_val_score(log_reg, X, y, cv=25)\n",
                "np.mean(scores_log_reg)"
            ]
        },
        {
            "cell_type": "code",
            "execution_count": 32,
            "metadata": {},
            "outputs": [
                {
                    "data": {
                        "text/plain": [
                            "<sklearn.metrics._plot.confusion_matrix.ConfusionMatrixDisplay at 0x204bbef9640>"
                        ]
                    },
                    "execution_count": 32,
                    "metadata": {},
                    "output_type": "execute_result"
                },
                {
                    "data": {
                        "image/png": "[encoded data removed]",
                        "text/plain": [
                            "<Figure size 640x480 with 2 Axes>"
                        ]
                    },
                    "metadata": {},
                    "output_type": "display_data"
                }
            ],
            "source": [
                "cm_log_reg = confusion_matrix(y_test, y_pred_test_log_reg, labels = log_reg.classes_)\n",
                "display_ = ConfusionMatrixDisplay(\n",
                "    confusion_matrix=cm_log_reg\n",
                ")\n",
                "display_.plot()"
            ]
        },
        {
            "attachments": {},
            "cell_type": "markdown",
            "metadata": {},
            "source": [
                "Метод опорных векторов SVM\n"
            ]
        },
        {
            "cell_type": "code",
            "execution_count": 33,
            "metadata": {},
            "outputs": [
                {
                    "name": "stdout",
                    "output_type": "stream",
                    "text": [
                        "              precision    recall  f1-score   support\n",
                        "\n",
                        "         0.0       0.73      0.65      0.69       427\n",
                        "         1.0       0.70      0.76      0.73       446\n",
                        "\n",
                        "    accuracy                           0.71       873\n",
                        "   macro avg       0.71      0.71      0.71       873\n",
                        "weighted avg       0.71      0.71      0.71       873\n",
                        "               precision    recall  f1-score   support\n",
                        "\n",
                        "         0.0       0.60      0.60      0.60        40\n",
                        "         1.0       0.72      0.72      0.72        57\n",
                        "\n",
                        "    accuracy                           0.67        97\n",
                        "   macro avg       0.66      0.66      0.66        97\n",
                        "weighted avg       0.67      0.67      0.67        97\n",
                        "\n",
                        "CPU times: total: 109 ms\n",
                        "Wall time: 224 ms\n"
                    ]
                }
            ],
            "source": [
                "%%time\n",
                "svc = SVC(kernel='rbf') # 0.83, 0.84\n",
                "#svc = SVC(kernel='sigmoid') # 0.69, 0.7\n",
                "#svc = SVC(kernel='poly') # 0.83, 0.82\n",
                "svc.fit(X_train, y_train)\n",
                "y_pred_test_svc = svc.predict(X_test)\n",
                "y_pred_train_svc = svc.predict(X_train)\n",
                "print(classification_report(y_train, y_pred_train_svc), classification_report(y_test, y_pred_test_svc))"
            ]
        },
        {
            "cell_type": "code",
            "execution_count": 34,
            "metadata": {},
            "outputs": [
                {
                    "name": "stdout",
                    "output_type": "stream",
                    "text": [
                        "CPU times: total: 438 ms\n",
                        "Wall time: 583 ms\n"
                    ]
                },
                {
                    "data": {
                        "text/plain": [
                            "0.7010309278350516"
                        ]
                    },
                    "execution_count": 34,
                    "metadata": {},
                    "output_type": "execute_result"
                }
            ],
            "source": [
                "%%time\n",
                "# Оценка модели с применением кросс-валидации\n",
                "scores_svc = cross_val_score(svc, X, y, cv=10)\n",
                "np.mean(scores_svc)"
            ]
        },
        {
            "cell_type": "code",
            "execution_count": 35,
            "metadata": {},
            "outputs": [
                {
                    "data": {
                        "text/plain": [
                            "<sklearn.metrics._plot.confusion_matrix.ConfusionMatrixDisplay at 0x204bbe85700>"
                        ]
                    },
                    "execution_count": 35,
                    "metadata": {},
                    "output_type": "execute_result"
                },
                {
                    "data": {
                        "image/png": "[encoded data removed]",
                        "text/plain": [
                            "<Figure size 640x480 with 2 Axes>"
                        ]
                    },
                    "metadata": {},
                    "output_type": "display_data"
                }
            ],
            "source": [
                "cm_svc = confusion_matrix(y_test, y_pred_test_svc, labels=svc.classes_)\n",
                "display_ = ConfusionMatrixDisplay(\n",
                "    confusion_matrix=cm_svc\n",
                ")\n",
                "display_.plot()"
            ]
        },
        {
            "attachments": {},
            "cell_type": "markdown",
            "metadata": {},
            "source": [
                "Дерево решений\n"
            ]
        },
        {
            "cell_type": "code",
            "execution_count": 36,
            "metadata": {},
            "outputs": [
                {
                    "data": {
                        "text/plain": [
                            "(array([[52.,  1.,  0., ...,  2.,  2.,  3.],\n",
                            "        [61.,  1.,  0., ...,  2.,  1.,  3.],\n",
                            "        [58.,  0.,  0., ...,  1.,  0.,  2.],\n",
                            "        ...,\n",
                            "        [47.,  1.,  0., ...,  1.,  1.,  2.],\n",
                            "        [50.,  0.,  0., ...,  2.,  0.,  2.],\n",
                            "        [54.,  1.,  0., ...,  1.,  1.,  3.]]),\n",
                            " array([0., 0., 1., 0., 0., 0., 0., 1., 0., 1., 0., 0., 1., 0., 1., 1., 1.,\n",
                            "        1., 1., 1., 1., 0., 0., 0., 0., 1., 0., 1., 1., 1., 1., 1., 0., 0.,\n",
                            "        1., 1., 1., 0., 1., 0., 1., 0., 0., 0., 1., 1., 0., 0., 1., 1., 0.,\n",
                            "        1., 1., 0., 1., 0., 1., 0., 0., 0., 0., 0., 1., 1., 0., 1., 1., 0.,\n",
                            "        0., 0., 1., 1., 1., 1., 0., 0., 0., 1., 0., 0., 1., 1., 1., 0., 0.,\n",
                            "        1., 1., 1., 1., 1., 1., 0., 0., 0., 0., 0., 0., 1., 0., 0., 0., 0.,\n",
                            "        0., 1., 1., 1., 0., 0., 1., 0., 1., 1., 1., 1., 1., 1., 1., 1., 1.,\n",
                            "        1., 0., 1., 1., 1., 0., 0., 1., 0., 1., 0., 1., 1., 0., 0., 1., 0.,\n",
                            "        1., 1., 1., 1., 1., 0., 1., 0., 0., 0., 0., 0., 1., 1., 1., 1., 0.,\n",
                            "        1., 1., 0., 0., 0., 0., 0., 0., 0., 1., 0., 1., 1., 0., 0., 0., 0.,\n",
                            "        0., 1., 1., 1., 1., 0., 1., 0., 1., 1., 0., 1., 1., 1., 1., 1., 1.,\n",
                            "        0., 1., 0., 0., 0., 1., 1., 1., 1., 0., 0., 0., 0., 1., 1., 1., 1.,\n",
                            "        0., 1., 1., 0., 0., 1., 0., 1., 1., 1., 0., 0., 0., 0., 1., 0., 1.,\n",
                            "        0., 1., 1., 0., 0., 1., 1., 0., 1., 0., 0., 0., 1., 1., 1., 0., 1.,\n",
                            "        1., 1., 1., 1., 0., 1., 0., 0., 0., 1., 1., 1., 1., 0., 1., 0., 1.,\n",
                            "        1., 0., 1., 1., 1., 1., 1., 0., 1., 1., 1., 1., 0., 1., 0., 1., 1.,\n",
                            "        0., 0., 0., 0., 1., 1., 1., 1., 1., 1., 0., 1., 1., 1., 0., 0., 0.,\n",
                            "        1., 1., 1., 0., 1., 1., 1., 0., 0., 1., 1., 0., 0., 0., 1., 1., 0.,\n",
                            "        1., 1., 0., 0., 1., 1., 0., 0., 1., 1., 1., 1., 1., 0., 0., 1., 0.,\n",
                            "        0., 1., 0., 0., 1., 0., 1., 0., 0., 0., 1., 1., 1., 1., 1., 0., 1.,\n",
                            "        0., 0., 1., 1., 0., 0., 1., 0., 1., 1., 1., 0., 1., 0., 0., 0., 0.,\n",
                            "        0., 1., 1., 0., 0., 1., 0., 0., 1., 0., 0., 1., 0., 0., 1., 1., 0.,\n",
                            "        1., 1., 1., 0., 0., 1., 0., 1., 0., 1., 0., 0., 0., 0., 1., 1., 1.,\n",
                            "        1., 1., 1., 1., 1., 0., 0., 0., 1., 1., 0., 0., 0., 0., 1., 1., 1.,\n",
                            "        1., 0., 0., 1., 0., 0., 0., 0., 1., 1., 1., 1., 0., 1., 0., 0., 1.,\n",
                            "        0., 1., 0., 1., 0., 1., 1., 1., 0., 1., 1., 1., 1., 1., 1., 0., 1.,\n",
                            "        0., 1., 1., 1., 1., 1., 0., 0., 1., 0., 0., 0., 1., 0., 0., 0., 1.,\n",
                            "        1., 1., 1., 0., 0., 1., 1., 0., 0., 1., 1., 1., 1., 1., 1., 0., 1.,\n",
                            "        0., 1., 0., 0., 1., 0., 0., 0., 1., 0., 0., 1., 0., 0., 0., 1., 1.,\n",
                            "        0., 1., 0., 1., 1., 1., 1., 0., 1., 1., 1., 1., 1., 0., 1., 0., 1.,\n",
                            "        1., 0., 1., 0., 0., 1., 1., 1., 0., 0., 0., 1., 0., 0., 0., 1., 1.,\n",
                            "        0., 1., 1., 1., 0., 0., 1., 1., 1., 1., 1., 0., 1., 0., 1., 1., 0.,\n",
                            "        1., 0., 1., 1., 1., 0., 0., 1., 0., 0., 0., 0., 1., 0., 0., 0., 0.,\n",
                            "        0., 1., 1., 0., 1., 0., 0., 1., 1., 1., 1., 0., 0., 0., 0., 0., 0.,\n",
                            "        0., 0., 0., 1., 1., 1., 1., 0., 0., 0., 0., 0., 1., 0., 0., 0., 1.,\n",
                            "        0., 0., 1., 1., 0., 0., 1., 0., 1., 0., 1., 1., 0., 1., 1., 1., 0.,\n",
                            "        0., 1., 1., 0., 1., 1., 0., 1., 1., 0., 1., 0., 1., 0., 0., 1., 1.,\n",
                            "        1., 1., 1., 1., 0., 0., 0., 1., 1., 0., 0., 0., 1., 0., 1., 0., 0.,\n",
                            "        0., 0., 0., 0., 0., 0., 1., 1., 1., 0., 1., 0., 0., 1., 0., 0., 0.,\n",
                            "        1., 0., 1., 1., 1., 0., 0., 1., 1., 0., 1., 0., 1., 1., 1., 1., 0.,\n",
                            "        0., 1., 1., 0., 1., 1., 1., 1., 0., 0., 1., 0., 1., 1., 0., 1., 1.,\n",
                            "        0., 1., 0., 0., 0., 0., 1., 1., 0., 1., 1., 1., 0., 0., 1., 1., 1.,\n",
                            "        1., 1., 1., 1., 1., 0., 1., 1., 0., 0., 1., 1., 1., 0., 0., 0., 0.,\n",
                            "        1., 1., 1., 1., 0., 0., 1., 1., 0., 0., 0., 1., 0., 0., 1., 1., 1.,\n",
                            "        0., 0., 0., 0., 0., 0., 0., 0., 1., 1., 0., 0., 1., 0., 0., 1., 1.,\n",
                            "        0., 1., 1., 0., 0., 0., 1., 1., 1., 1., 1., 0., 0., 0., 0., 1., 0.,\n",
                            "        1., 1., 0., 1., 0., 1., 1., 1., 0., 0., 0., 1., 1., 1., 1., 0., 1.,\n",
                            "        0., 0., 0., 0., 1., 0., 1., 0., 0., 1., 0., 0., 0., 1., 1., 1., 1.,\n",
                            "        0., 0., 0., 0., 1., 1., 1., 1., 1., 1., 0., 0., 0., 1., 0., 1., 1.,\n",
                            "        0., 0., 0., 0., 0., 0., 1., 0., 0., 0., 1., 0., 0., 0., 0., 1., 1.,\n",
                            "        1., 1., 0., 1., 0., 0., 1., 0., 1., 1., 0., 0., 0., 0., 0., 1., 0.,\n",
                            "        0., 0., 1., 0., 0., 0., 0., 1., 1., 0., 0., 0., 1., 0., 0., 0., 1.,\n",
                            "        1., 1., 0., 1., 1., 1., 1., 0., 1., 0., 1., 0., 0., 1., 1., 1., 1.,\n",
                            "        1., 0., 1., 1., 1., 1., 1., 0., 1., 1., 0., 1., 0., 1., 1., 1., 1.,\n",
                            "        1., 1., 0., 0., 1., 0., 0., 1., 0., 1., 1., 1., 1., 0., 0., 0., 1.,\n",
                            "        1., 0., 1., 0., 0., 1., 0., 0., 0., 0., 0., 1., 0., 1., 1., 0., 1.,\n",
                            "        1., 1., 0., 0., 1., 0., 0., 1., 0., 0., 0., 0., 1., 1., 0., 0., 1.,\n",
                            "        0.]))"
                        ]
                    },
                    "execution_count": 36,
                    "metadata": {},
                    "output_type": "execute_result"
                }
            ],
            "source": [
                "X_tree = data.drop(\"target\", axis=1, inplace=False).values\n",
                "y_tree = data[\"target\"].values\n",
                "X_tree, y_tree"
            ]
        },
        {
            "cell_type": "code",
            "execution_count": 37,
            "metadata": {},
            "outputs": [],
            "source": [
                "X_train_tree, X_test_tree, y_train_tree, y_test_tree = train_test_split(X_tree, y_tree, test_size = 0.1, random_state = 9)\n"
            ]
        },
        {
            "cell_type": "code",
            "execution_count": 38,
            "metadata": {},
            "outputs": [
                {
                    "name": "stdout",
                    "output_type": "stream",
                    "text": [
                        "              precision    recall  f1-score   support\n",
                        "\n",
                        "         0.0       1.00      1.00      1.00       427\n",
                        "         1.0       1.00      1.00      1.00       446\n",
                        "\n",
                        "    accuracy                           1.00       873\n",
                        "   macro avg       1.00      1.00      1.00       873\n",
                        "weighted avg       1.00      1.00      1.00       873\n",
                        "               precision    recall  f1-score   support\n",
                        "\n",
                        "         0.0       1.00      1.00      1.00        40\n",
                        "         1.0       1.00      1.00      1.00        57\n",
                        "\n",
                        "    accuracy                           1.00        97\n",
                        "   macro avg       1.00      1.00      1.00        97\n",
                        "weighted avg       1.00      1.00      1.00        97\n",
                        "\n"
                    ]
                }
            ],
            "source": [
                "tree = DecisionTreeClassifier(random_state=9).fit(X_train_tree, y_train_tree)\n",
                "y_pred_test_tree = tree.predict(X_test_tree)\n",
                "y_pred_train_tree = tree.predict(X_train_tree)\n",
                "print(classification_report(y_train_tree, y_pred_train_tree), classification_report(y_test_tree, y_pred_test_tree))\n",
                "# при стандартном обучении получаем переобучение"
            ]
        },
        {
            "cell_type": "code",
            "execution_count": 39,
            "metadata": {},
            "outputs": [],
            "source": [
                "params = {\n",
                "    'max_depth': range(3, 16)\n",
                "}"
            ]
        },
        {
            "cell_type": "code",
            "execution_count": 40,
            "metadata": {},
            "outputs": [
                {
                    "name": "stdout",
                    "output_type": "stream",
                    "text": [
                        "CPU times: total: 812 ms\n",
                        "Wall time: 1.42 s\n"
                    ]
                },
                {
                    "data": {
                        "text/plain": [
                            "({'max_depth': 10}, 0.9979591836734695)"
                        ]
                    },
                    "execution_count": 40,
                    "metadata": {},
                    "output_type": "execute_result"
                }
            ],
            "source": [
                "%%time\n",
                "grid_1 = GridSearchCV(\n",
                "    estimator=DecisionTreeClassifier(random_state=9),\n",
                "    param_grid=params,\n",
                "    scoring='accuracy',\n",
                "    cv=20\n",
                ")\n",
                "grid_1.fit(X_tree, y_tree)\n",
                "grid_1.best_params_, grid_1.best_score_"
            ]
        },
        {
            "cell_type": "code",
            "execution_count": 41,
            "metadata": {},
            "outputs": [
                {
                    "data": {
                        "text/html": [
                            "<pre>|--- cp <= 0.50\n",
                            "|   |--- ca <= 0.50\n",
                            "|   |   |--- thal <= 2.50\n",
                            "|   |   |   |--- exang <= 0.50\n",
                            "|   |   |   |   |--- thalach <= 96.50\n",
                            "|   |   |   |   |   |--- class: 0.0\n",
                            "|   |   |   |   |--- thalach >  96.50\n",
                            "|   |   |   |   |   |--- chol <= 316.50\n",
                            "|   |   |   |   |   |   |--- class: 1.0\n",
                            "|   |   |   |   |   |--- chol >  316.50\n",
                            "|   |   |   |   |   |   |--- trestbps <= 135.00\n",
                            "|   |   |   |   |   |   |   |--- class: 0.0\n",
                            "|   |   |   |   |   |   |--- trestbps >  135.00\n",
                            "|   |   |   |   |   |   |   |--- class: 1.0\n",
                            "|   |   |   |--- exang >  0.50\n",
                            "|   |   |   |   |--- restecg <= 0.50\n",
                            "|   |   |   |   |   |--- class: 1.0\n",
                            "|   |   |   |   |--- restecg >  0.50\n",
                            "|   |   |   |   |   |--- slope <= 1.50\n",
                            "|   |   |   |   |   |   |--- trestbps <= 115.00\n",
                            "|   |   |   |   |   |   |   |--- class: 1.0\n",
                            "|   |   |   |   |   |   |--- trestbps >  115.00\n",
                            "|   |   |   |   |   |   |   |--- class: 0.0\n",
                            "|   |   |   |   |   |--- slope >  1.50\n",
                            "|   |   |   |   |   |   |--- class: 1.0\n",
                            "|   |   |--- thal >  2.50\n",
                            "|   |   |   |--- oldpeak <= 0.65\n",
                            "|   |   |   |   |--- age <= 42.00\n",
                            "|   |   |   |   |   |--- class: 0.0\n",
                            "|   |   |   |   |--- age >  42.00\n",
                            "|   |   |   |   |   |--- chol <= 237.50\n",
                            "|   |   |   |   |   |   |--- class: 1.0\n",
                            "|   |   |   |   |   |--- chol >  237.50\n",
                            "|   |   |   |   |   |   |--- class: 0.0\n",
                            "|   |   |   |--- oldpeak >  0.65\n",
                            "|   |   |   |   |--- class: 0.0\n",
                            "|   |--- ca >  0.50\n",
                            "|   |   |--- trestbps <= 109.00\n",
                            "|   |   |   |--- chol <= 233.50\n",
                            "|   |   |   |   |--- class: 1.0\n",
                            "|   |   |   |--- chol >  233.50\n",
                            "|   |   |   |   |--- class: 0.0\n",
                            "|   |   |--- trestbps >  109.00\n",
                            "|   |   |   |--- oldpeak <= 0.40\n",
                            "|   |   |   |   |--- thalach <= 106.50\n",
                            "|   |   |   |   |   |--- class: 1.0\n",
                            "|   |   |   |   |--- thalach >  106.50\n",
                            "|   |   |   |   |   |--- sex <= 0.50\n",
                            "|   |   |   |   |   |   |--- class: 1.0\n",
                            "|   |   |   |   |   |--- sex >  0.50\n",
                            "|   |   |   |   |   |   |--- class: 0.0\n",
                            "|   |   |   |--- oldpeak >  0.40\n",
                            "|   |   |   |   |--- chol <= 300.50\n",
                            "|   |   |   |   |   |--- class: 0.0\n",
                            "|   |   |   |   |--- chol >  300.50\n",
                            "|   |   |   |   |   |--- chol <= 307.00\n",
                            "|   |   |   |   |   |   |--- class: 1.0\n",
                            "|   |   |   |   |   |--- chol >  307.00\n",
                            "|   |   |   |   |   |   |--- class: 0.0\n",
                            "|--- cp >  0.50\n",
                            "|   |--- age <= 56.50\n",
                            "|   |   |--- oldpeak <= 3.55\n",
                            "|   |   |   |--- thalach <= 142.50\n",
                            "|   |   |   |   |--- ca <= 2.00\n",
                            "|   |   |   |   |   |--- fbs <= 0.50\n",
                            "|   |   |   |   |   |   |--- thal <= 2.50\n",
                            "|   |   |   |   |   |   |   |--- class: 1.0\n",
                            "|   |   |   |   |   |   |--- thal >  2.50\n",
                            "|   |   |   |   |   |   |   |--- class: 0.0\n",
                            "|   |   |   |   |   |--- fbs >  0.50\n",
                            "|   |   |   |   |   |   |--- class: 0.0\n",
                            "|   |   |   |   |--- ca >  2.00\n",
                            "|   |   |   |   |   |--- class: 0.0\n",
                            "|   |   |   |--- thalach >  142.50\n",
                            "|   |   |   |   |--- trestbps <= 182.00\n",
                            "|   |   |   |   |   |--- trestbps <= 111.00\n",
                            "|   |   |   |   |   |   |--- slope <= 0.50\n",
                            "|   |   |   |   |   |   |   |--- class: 0.0\n",
                            "|   |   |   |   |   |   |--- slope >  0.50\n",
                            "|   |   |   |   |   |   |   |--- thalach <= 152.50\n",
                            "|   |   |   |   |   |   |   |   |--- thalach <= 147.50\n",
                            "|   |   |   |   |   |   |   |   |   |--- class: 1.0\n",
                            "|   |   |   |   |   |   |   |   |--- thalach >  147.50\n",
                            "|   |   |   |   |   |   |   |   |   |--- class: 0.0\n",
                            "|   |   |   |   |   |   |   |--- thalach >  152.50\n",
                            "|   |   |   |   |   |   |   |   |--- class: 1.0\n",
                            "|   |   |   |   |   |--- trestbps >  111.00\n",
                            "|   |   |   |   |   |   |--- trestbps <= 139.00\n",
                            "|   |   |   |   |   |   |   |--- class: 1.0\n",
                            "|   |   |   |   |   |   |--- trestbps >  139.00\n",
                            "|   |   |   |   |   |   |   |--- ca <= 0.50\n",
                            "|   |   |   |   |   |   |   |   |--- class: 1.0\n",
                            "|   |   |   |   |   |   |   |--- ca >  0.50\n",
                            "|   |   |   |   |   |   |   |   |--- slope <= 1.50\n",
                            "|   |   |   |   |   |   |   |   |   |--- class: 0.0\n",
                            "|   |   |   |   |   |   |   |   |--- slope >  1.50\n",
                            "|   |   |   |   |   |   |   |   |   |--- class: 1.0\n",
                            "|   |   |   |   |--- trestbps >  182.00\n",
                            "|   |   |   |   |   |--- class: 0.0\n",
                            "|   |   |--- oldpeak >  3.55\n",
                            "|   |   |   |--- class: 0.0\n",
                            "|   |--- age >  56.50\n",
                            "|   |   |--- sex <= 0.50\n",
                            "|   |   |   |--- age <= 62.50\n",
                            "|   |   |   |   |--- ca <= 0.50\n",
                            "|   |   |   |   |   |--- class: 1.0\n",
                            "|   |   |   |   |--- ca >  0.50\n",
                            "|   |   |   |   |   |--- trestbps <= 116.00\n",
                            "|   |   |   |   |   |   |--- class: 1.0\n",
                            "|   |   |   |   |   |--- trestbps >  116.00\n",
                            "|   |   |   |   |   |   |--- class: 0.0\n",
                            "|   |   |   |--- age >  62.50\n",
                            "|   |   |   |   |--- class: 1.0\n",
                            "|   |   |--- sex >  0.50\n",
                            "|   |   |   |--- chol <= 245.50\n",
                            "|   |   |   |   |--- oldpeak <= 2.40\n",
                            "|   |   |   |   |   |--- ca <= 0.50\n",
                            "|   |   |   |   |   |   |--- age <= 65.50\n",
                            "|   |   |   |   |   |   |   |--- class: 1.0\n",
                            "|   |   |   |   |   |   |--- age >  65.50\n",
                            "|   |   |   |   |   |   |   |--- cp <= 1.50\n",
                            "|   |   |   |   |   |   |   |   |--- class: 1.0\n",
                            "|   |   |   |   |   |   |   |--- cp >  1.50\n",
                            "|   |   |   |   |   |   |   |   |--- class: 0.0\n",
                            "|   |   |   |   |   |--- ca >  0.50\n",
                            "|   |   |   |   |   |   |--- ca <= 2.50\n",
                            "|   |   |   |   |   |   |   |--- fbs <= 0.50\n",
                            "|   |   |   |   |   |   |   |   |--- class: 0.0\n",
                            "|   |   |   |   |   |   |   |--- fbs >  0.50\n",
                            "|   |   |   |   |   |   |   |   |--- oldpeak <= 1.20\n",
                            "|   |   |   |   |   |   |   |   |   |--- class: 1.0\n",
                            "|   |   |   |   |   |   |   |   |--- oldpeak >  1.20\n",
                            "|   |   |   |   |   |   |   |   |   |--- class: 0.0\n",
                            "|   |   |   |   |   |   |--- ca >  2.50\n",
                            "|   |   |   |   |   |   |   |--- class: 1.0\n",
                            "|   |   |   |   |--- oldpeak >  2.40\n",
                            "|   |   |   |   |   |--- class: 0.0\n",
                            "|   |   |   |--- chol >  245.50\n",
                            "|   |   |   |   |--- trestbps <= 119.00\n",
                            "|   |   |   |   |   |--- class: 1.0\n",
                            "|   |   |   |   |--- trestbps >  119.00\n",
                            "|   |   |   |   |   |--- slope <= 0.50\n",
                            "|   |   |   |   |   |   |--- class: 1.0\n",
                            "|   |   |   |   |   |--- slope >  0.50\n",
                            "|   |   |   |   |   |   |--- class: 0.0\n",
                            "</pre>"
                        ],
                        "text/plain": [
                            "<IPython.core.display.HTML object>"
                        ]
                    },
                    "execution_count": 41,
                    "metadata": {},
                    "output_type": "execute_result"
                }
            ],
            "source": [
                "tree_rules = export_text(grid_1.best_estimator_, feature_names=list(data.drop(\"target\", axis=1).columns))\n",
                "HTML('<pre>' + tree_rules + '</pre>')"
            ]
        },
        {
            "cell_type": "code",
            "execution_count": 42,
            "metadata": {},
            "outputs": [],
            "source": [
                "def draw_feature_importances(tree_model, X_dataset, figsize=(18,5)):\n",
                "    \"\"\"\n",
                "    Вывод важности признаков в виде графика\n",
                "    \"\"\"\n",
                "    # Сортировка значений важности признаков по убыванию\n",
                "    list_to_sort = list(zip(X_dataset.columns.values, tree_model.feature_importances_))\n",
                "    sorted_list = sorted(list_to_sort, key=itemgetter(1), reverse = True)\n",
                "    # Названия признаков\n",
                "    labels = [x for x,_ in sorted_list]\n",
                "    # Важности признаков\n",
                "    data = [x for _,x in sorted_list]\n",
                "    # Вывод графика\n",
                "    fig, ax = plt.subplots(figsize=figsize)\n",
                "    ind = np.arange(len(labels))\n",
                "    plt.bar(ind, data)\n",
                "    plt.xticks(ind, labels, rotation='vertical')\n",
                "    # Вывод значений\n",
                "    for a,b in zip(ind, data):\n",
                "        plt.text(a-0.05, b+0.01, str(round(b,3)))\n",
                "    plt.show()\n",
                "    return labels, data"
            ]
        },
        {
            "cell_type": "code",
            "execution_count": 43,
            "metadata": {},
            "outputs": [
                {
                    "data": {
                        "image/png": "[encoded data removed]",
                        "text/plain": [
                            "<Figure size 1800x500 with 1 Axes>"
                        ]
                    },
                    "metadata": {},
                    "output_type": "display_data"
                }
            ],
            "source": [
                "iris_tree_cl_fl, iris_tree_cl_fd = draw_feature_importances(grid_1.best_estimator_, data)\n"
            ]
        },
        {
            "cell_type": "code",
            "execution_count": 44,
            "metadata": {},
            "outputs": [
                {
                    "data": {
                        "text/plain": [
                            "<sklearn.metrics._plot.confusion_matrix.ConfusionMatrixDisplay at 0x204bc882d60>"
                        ]
                    },
                    "execution_count": 44,
                    "metadata": {},
                    "output_type": "execute_result"
                },
                {
                    "data": {
                        "image/png": "[encoded data removed]",
                        "text/plain": [
                            "<Figure size 640x480 with 2 Axes>"
                        ]
                    },
                    "metadata": {},
                    "output_type": "display_data"
                }
            ],
            "source": [
                "cm_tree = confusion_matrix(y_test_tree, grid_1.best_estimator_.predict(X_test_tree))\n",
                "display_ = ConfusionMatrixDisplay(\n",
                "    confusion_matrix=cm_tree\n",
                ")\n",
                "display_.plot()"
            ]
        }
    ],
    "metadata": {
        "kernelspec": {
            "display_name": "Python 3",
            "language": "python",
            "name": "python3"
        },
        "language_info": {
            "codemirror_mode": {
                "name": "ipython",
                "version": 3
            },
            "file_extension": ".py",
            "mimetype": "text/x-python",
            "name": "python",
            "nbconvert_exporter": "python",
            "pygments_lexer": "ipython3",
            "version": "3.9.7"
        },
        "orig_nbformat": 4
    },
    "nbformat": 4,
    "nbformat_minor": 2
}
