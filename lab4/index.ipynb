{
 "cells": [
  {
   "cell_type": "code",
   "execution_count": 1,
   "metadata": {},
   "outputs": [],
   "source": [
    "import numpy as np\n",
    "import pandas as pd\n",
    "from sklearn.tree import DecisionTreeClassifier, DecisionTreeRegressor\n",
    "from sklearn.model_selection import train_test_split\n",
    "from sklearn.preprocessing import StandardScaler\n",
    "from sklearn.linear_model import LogisticRegression\n",
    "from sklearn.metrics import accuracy_score, precision_score, recall_score\n",
    "from sklearn.metrics import mean_absolute_error\n",
    "from sklearn.metrics import median_absolute_error, r2_score\n",
    "from sklearn.svm import NuSVR\n",
    "from sklearn import tree\n",
    "import matplotlib.pyplot as plt"
   ]
  },
  {
   "attachments": {},
   "cell_type": "markdown",
   "metadata": {},
   "source": [
    "# Спецификация\n",
    "<li> age - возраст\n",
    "<li> sex - пол\n",
    "<li> cp - тип боли в груди\n",
    "<li> trestbps - артериальное давление в покое\n",
    "<li> chol - холестерин сыворотки\n",
    "<li> fbs - уровень сахара в крови натощак\n",
    "<li> restecg - результаты электрокардиографии в покое\n",
    "<li> thalach - максимальная частота сердечных сокращений\n",
    "<li> exang - стенокардия, вызванная физической нагрузкой (1 - да, 0 - нет)\n",
    "<li> oldpeak - депрессия, вызванная физической нагрузкой, по сравнению с состоянием пока \n",
    "<li> slope - наклон пикового сегмента при нагрузке\n",
    "<li> ca - количество крупных сосудов (0 - 3), окрашенных при флюороскопии\n",
    "<li> thal - 1 - нормальный, 2 - фиксированный дефект, 3 - обратимый дефект\n",
    "<li> target - 1 или 0"
   ]
  },
  {
   "cell_type": "code",
   "execution_count": 2,
   "metadata": {},
   "outputs": [],
   "source": [
    "data=pd.read_csv('../datasets/heart.csv')"
   ]
  },
  {
   "cell_type": "code",
   "execution_count": 3,
   "metadata": {},
   "outputs": [
    {
     "data": {
      "text/html": [
       "<div>\n",
       "<style scoped>\n",
       "    .dataframe tbody tr th:only-of-type {\n",
       "        vertical-align: middle;\n",
       "    }\n",
       "\n",
       "    .dataframe tbody tr th {\n",
       "        vertical-align: top;\n",
       "    }\n",
       "\n",
       "    .dataframe thead th {\n",
       "        text-align: right;\n",
       "    }\n",
       "</style>\n",
       "<table border=\"1\" class=\"dataframe\">\n",
       "  <thead>\n",
       "    <tr style=\"text-align: right;\">\n",
       "      <th></th>\n",
       "      <th>age</th>\n",
       "      <th>sex</th>\n",
       "      <th>cp</th>\n",
       "      <th>trestbps</th>\n",
       "      <th>chol</th>\n",
       "      <th>fbs</th>\n",
       "      <th>restecg</th>\n",
       "      <th>thalach</th>\n",
       "      <th>exang</th>\n",
       "      <th>oldpeak</th>\n",
       "      <th>slope</th>\n",
       "      <th>ca</th>\n",
       "      <th>thal</th>\n",
       "      <th>target</th>\n",
       "    </tr>\n",
       "  </thead>\n",
       "  <tbody>\n",
       "    <tr>\n",
       "      <th>0</th>\n",
       "      <td>52.0</td>\n",
       "      <td>1</td>\n",
       "      <td>0</td>\n",
       "      <td>125.0</td>\n",
       "      <td>212.0</td>\n",
       "      <td>0.0</td>\n",
       "      <td>1</td>\n",
       "      <td>168.0</td>\n",
       "      <td>0.0</td>\n",
       "      <td>1.0</td>\n",
       "      <td>2</td>\n",
       "      <td>2</td>\n",
       "      <td>3.0</td>\n",
       "      <td>0.0</td>\n",
       "    </tr>\n",
       "    <tr>\n",
       "      <th>1</th>\n",
       "      <td>53.0</td>\n",
       "      <td>1</td>\n",
       "      <td>0</td>\n",
       "      <td>NaN</td>\n",
       "      <td>203.0</td>\n",
       "      <td>1.0</td>\n",
       "      <td>0</td>\n",
       "      <td>155.0</td>\n",
       "      <td>1.0</td>\n",
       "      <td>3.1</td>\n",
       "      <td>0</td>\n",
       "      <td>0</td>\n",
       "      <td>3.0</td>\n",
       "      <td>0.0</td>\n",
       "    </tr>\n",
       "    <tr>\n",
       "      <th>2</th>\n",
       "      <td>70.0</td>\n",
       "      <td>1</td>\n",
       "      <td>0</td>\n",
       "      <td>145.0</td>\n",
       "      <td>NaN</td>\n",
       "      <td>0.0</td>\n",
       "      <td>1</td>\n",
       "      <td>125.0</td>\n",
       "      <td>1.0</td>\n",
       "      <td>2.6</td>\n",
       "      <td>0</td>\n",
       "      <td>0</td>\n",
       "      <td>3.0</td>\n",
       "      <td>0.0</td>\n",
       "    </tr>\n",
       "    <tr>\n",
       "      <th>3</th>\n",
       "      <td>61.0</td>\n",
       "      <td>1</td>\n",
       "      <td>0</td>\n",
       "      <td>148.0</td>\n",
       "      <td>203.0</td>\n",
       "      <td>0.0</td>\n",
       "      <td>1</td>\n",
       "      <td>161.0</td>\n",
       "      <td>0.0</td>\n",
       "      <td>0.0</td>\n",
       "      <td>2</td>\n",
       "      <td>1</td>\n",
       "      <td>3.0</td>\n",
       "      <td>0.0</td>\n",
       "    </tr>\n",
       "    <tr>\n",
       "      <th>4</th>\n",
       "      <td>62.0</td>\n",
       "      <td>0</td>\n",
       "      <td>0</td>\n",
       "      <td>138.0</td>\n",
       "      <td>294.0</td>\n",
       "      <td>1.0</td>\n",
       "      <td>1</td>\n",
       "      <td>NaN</td>\n",
       "      <td>0.0</td>\n",
       "      <td>1.9</td>\n",
       "      <td>1</td>\n",
       "      <td>3</td>\n",
       "      <td>2.0</td>\n",
       "      <td>0.0</td>\n",
       "    </tr>\n",
       "  </tbody>\n",
       "</table>\n",
       "</div>"
      ],
      "text/plain": [
       "    age  sex  cp  trestbps   chol  fbs  restecg  thalach  exang  oldpeak  \\\n",
       "0  52.0    1   0     125.0  212.0  0.0        1    168.0    0.0      1.0   \n",
       "1  53.0    1   0       NaN  203.0  1.0        0    155.0    1.0      3.1   \n",
       "2  70.0    1   0     145.0    NaN  0.0        1    125.0    1.0      2.6   \n",
       "3  61.0    1   0     148.0  203.0  0.0        1    161.0    0.0      0.0   \n",
       "4  62.0    0   0     138.0  294.0  1.0        1      NaN    0.0      1.9   \n",
       "\n",
       "   slope  ca  thal  target  \n",
       "0      2   2   3.0     0.0  \n",
       "1      0   0   3.0     0.0  \n",
       "2      0   0   3.0     0.0  \n",
       "3      2   1   3.0     0.0  \n",
       "4      1   3   2.0     0.0  "
      ]
     },
     "execution_count": 3,
     "metadata": {},
     "output_type": "execute_result"
    }
   ],
   "source": [
    "data.head()"
   ]
  },
  {
   "cell_type": "code",
   "execution_count": 4,
   "metadata": {},
   "outputs": [
    {
     "name": "stdout",
     "output_type": "stream",
     "text": [
      "<class 'pandas.core.frame.DataFrame'>\n",
      "RangeIndex: 1025 entries, 0 to 1024\n",
      "Data columns (total 14 columns):\n",
      " #   Column    Non-Null Count  Dtype  \n",
      "---  ------    --------------  -----  \n",
      " 0   age       1022 non-null   float64\n",
      " 1   sex       1025 non-null   int64  \n",
      " 2   cp        1025 non-null   int64  \n",
      " 3   trestbps  1008 non-null   float64\n",
      " 4   chol      1007 non-null   float64\n",
      " 5   fbs       1021 non-null   float64\n",
      " 6   restecg   1025 non-null   int64  \n",
      " 7   thalach   1015 non-null   float64\n",
      " 8   exang     1023 non-null   float64\n",
      " 9   oldpeak   1025 non-null   float64\n",
      " 10  slope     1025 non-null   int64  \n",
      " 11  ca        1025 non-null   int64  \n",
      " 12  thal      1024 non-null   float64\n",
      " 13  target    1024 non-null   float64\n",
      "dtypes: float64(9), int64(5)\n",
      "memory usage: 112.2 KB\n"
     ]
    }
   ],
   "source": [
    "data.info()"
   ]
  },
  {
   "cell_type": "code",
   "execution_count": 5,
   "metadata": {},
   "outputs": [
    {
     "data": {
      "text/plain": [
       "age          3\n",
       "sex          0\n",
       "cp           0\n",
       "trestbps    17\n",
       "chol        18\n",
       "fbs          4\n",
       "restecg      0\n",
       "thalach     10\n",
       "exang        2\n",
       "oldpeak      0\n",
       "slope        0\n",
       "ca           0\n",
       "thal         1\n",
       "target       1\n",
       "dtype: int64"
      ]
     },
     "execution_count": 5,
     "metadata": {},
     "output_type": "execute_result"
    }
   ],
   "source": [
    "data.isna().sum()"
   ]
  },
  {
   "cell_type": "code",
   "execution_count": 6,
   "metadata": {},
   "outputs": [
    {
     "data": {
      "text/plain": [
       "age         0\n",
       "sex         0\n",
       "cp          0\n",
       "trestbps    0\n",
       "chol        0\n",
       "fbs         0\n",
       "restecg     0\n",
       "thalach     0\n",
       "exang       0\n",
       "oldpeak     0\n",
       "slope       0\n",
       "ca          0\n",
       "thal        0\n",
       "target      0\n",
       "dtype: int64"
      ]
     },
     "execution_count": 6,
     "metadata": {},
     "output_type": "execute_result"
    }
   ],
   "source": [
    "data=data.dropna()\n",
    "data.isna().sum()"
   ]
  },
  {
   "cell_type": "code",
   "execution_count": 7,
   "metadata": {},
   "outputs": [
    {
     "name": "stdout",
     "output_type": "stream",
     "text": [
      "disease: \n",
      "          count        mean        std    min    25%    50%    75%    max\n",
      "age       503.0   52.405567   9.623310   29.0   44.0   52.0   59.0   76.0\n",
      "sex       503.0    0.572565   0.495199    0.0    0.0    1.0    1.0    1.0\n",
      "cp        503.0    1.363817   0.949336    0.0    1.0    2.0    2.0    3.0\n",
      "trestbps  503.0  129.292247  16.277599   94.0  120.0  130.0  140.0  180.0\n",
      "chol      503.0  240.510934  52.949004  126.0  208.0  234.0  265.0  564.0\n",
      "fbs       503.0    0.135189   0.342266    0.0    0.0    0.0    0.0    1.0\n",
      "restecg   503.0    0.598410   0.502739    0.0    0.0    1.0    1.0    2.0\n",
      "thalach   503.0  158.610338  18.923290   96.0  149.0  161.0  172.0  202.0\n",
      "exang     503.0    0.135189   0.342266    0.0    0.0    0.0    0.0    1.0\n",
      "oldpeak   503.0    0.557654   0.768021    0.0    0.0    0.2    1.0    4.2\n",
      "slope     503.0    1.596421   0.580345    0.0    1.0    2.0    2.0    2.0\n",
      "ca        503.0    0.375746   0.883654    0.0    0.0    0.0    0.0    4.0\n",
      "thal      503.0    2.119284   0.469896    0.0    2.0    2.0    2.0    3.0\n",
      "target    503.0    1.000000   0.000000    1.0    1.0    1.0    1.0    1.0\n"
     ]
    }
   ],
   "source": [
    "print('disease: ')\n",
    "print(data[data['target']==1].describe().T)"
   ]
  },
  {
   "cell_type": "code",
   "execution_count": 8,
   "metadata": {},
   "outputs": [
    {
     "name": "stdout",
     "output_type": "stream",
     "text": [
      "no disease: \n",
      "          count        mean        std    min    25%    50%    75%    max\n",
      "age       467.0   56.436831   7.985621   35.0   52.0   58.0   62.0   77.0\n",
      "sex       467.0    0.835118   0.371472    0.0    1.0    1.0    1.0    1.0\n",
      "cp        467.0    0.479657   0.906056    0.0    0.0    0.0    0.0    3.0\n",
      "trestbps  467.0  134.044968  18.716547  100.0  120.0  130.0  144.0  200.0\n",
      "chol      467.0  251.102784  49.252591  131.0  217.0  249.0  284.0  409.0\n",
      "fbs       467.0    0.162741   0.369525    0.0    0.0    0.0    0.0    1.0\n",
      "restecg   467.0    0.451820   0.543526    0.0    0.0    0.0    1.0    2.0\n",
      "thalach   467.0  138.854390  22.875015   71.0  125.0  142.0  156.5  195.0\n",
      "exang     467.0    0.552463   0.497773    0.0    0.0    1.0    1.0    1.0\n",
      "oldpeak   467.0    1.593790   1.287953    0.0    0.6    1.4    2.5    6.2\n",
      "slope     467.0    1.171306   0.564119    0.0    1.0    1.0    2.0    2.0\n",
      "ca        467.0    1.175589   1.029190    0.0    0.0    1.0    2.0    4.0\n",
      "thal      467.0    2.537473   0.684115    0.0    2.0    3.0    3.0    3.0\n",
      "target    467.0    0.000000   0.000000    0.0    0.0    0.0    0.0    0.0\n"
     ]
    }
   ],
   "source": [
    "print('no disease: ')\n",
    "print(data[data['target']==0].describe().T)"
   ]
  },
  {
   "attachments": {},
   "cell_type": "markdown",
   "metadata": {},
   "source": [
    "### Вывод на основе отличий признаков у людей с болезнями и без них\n",
    "\n",
    "<li> Средний возраст практически не отличается\n",
    "<li> Заболеваний меньше всего у мужчин, при наличии заболевания 57% мужчины, 43% женщины\n",
    "<li> Артериальное давление в покое не отличается - 134 без заболевания и 129 с заболеванием\n",
    "<li> Холестерин почти не отличается - 251 без заболевания и 240 с заболеванием\n",
    "<li> Уровень сахара в крови натощак слабо отличается - 0.16 без заболевания и 0.135 с заболеванием\n",
    "<li> Стенокардия, вызванная физической нагрузкой, более распространена у людей без заболевания - 0.55 и 0.135 у людей с заболеванием\n",
    "<li> Депрессия, вызванная физической нагрузкой, по сравнению с состоянием покоя выше у людей без заболевания - 1.59 и 0.56 у людей с заболеванием\n",
    "<li> У людей без заболевание количество крупных сосудов больше, чем у людей с заболеванием - 1.17 и 0.375"
   ]
  },
  {
   "attachments": {},
   "cell_type": "markdown",
   "metadata": {},
   "source": [
    "С использованием метода train_test_split разделим выборку на обучающую и тестовую\n",
    "\n",
    "Построим модель бинарной классификации пользователей, где целевой признак - наличие сердечного заболевания"
   ]
  },
  {
   "cell_type": "code",
   "execution_count": 9,
   "metadata": {},
   "outputs": [],
   "source": [
    "x = data.drop(['target'], axis = 1)\n",
    "y = data['target']\n",
    "x_train, x_test, y_train, y_test = train_test_split(x, y, test_size=0.2, random_state=0)\n",
    "scaler = StandardScaler()\n",
    "x_train_st = scaler.fit_transform(x_train)\n",
    "x_test_st = scaler.transform(x_test)"
   ]
  },
  {
   "attachments": {},
   "cell_type": "markdown",
   "metadata": {},
   "source": [
    "Логическая регрессия"
   ]
  },
  {
   "cell_type": "code",
   "execution_count": 10,
   "metadata": {},
   "outputs": [
    {
     "name": "stdout",
     "output_type": "stream",
     "text": [
      "Метрики для модели логистической регрессии:\n",
      "accuracy_score: 0.8505154639175257\n",
      "precision_score: 0.819047619047619\n",
      "recall_score:0.8958333333333334\n"
     ]
    }
   ],
   "source": [
    "lr_model = LogisticRegression(random_state=0)\n",
    "lr_model.fit(x_train_st, y_train)\n",
    "lr_predictions = lr_model.predict(x_test_st)\n",
    "lr_probabilities = lr_model.predict_proba(x_test_st)[:,1]\n",
    "print('Метрики для модели логистической регрессии:')\n",
    "print('accuracy_score: {}\\nprecision_score: {}\\nrecall_score:{}'.format(\n",
    "    accuracy_score(y_test, lr_predictions),\n",
    "    precision_score(y_test, lr_predictions),\n",
    "    recall_score(y_test, lr_predictions)\n",
    "))"
   ]
  },
  {
   "cell_type": "code",
   "execution_count": 11,
   "metadata": {},
   "outputs": [
    {
     "name": "stdout",
     "output_type": "stream",
     "text": [
      "\n",
      "Коэффициенты признаков в оптимальной функции логистической регрессии:\n",
      "     feature      coef\n",
      "1        sex  0.917866\n",
      "2         cp  0.794755\n",
      "11        ca  0.766326\n",
      "9    oldpeak  0.761520\n",
      "12      thal  0.544886\n",
      "8      exang  0.502581\n",
      "7    thalach  0.486596\n",
      "3   trestbps  0.359480\n",
      "10     slope  0.341910\n",
      "4       chol  0.264322\n",
      "6    restecg  0.221671\n",
      "0        age  0.110998\n",
      "5        fbs  0.010069\n"
     ]
    }
   ],
   "source": [
    "features = pd.DataFrame(lr_model.coef_.T, x.columns).reset_index()\n",
    "features.columns = ['feature', 'coef']\n",
    "features['coef'] = features['coef'].apply(lambda x: abs(x))\n",
    "features = features.sort_values(by='coef', ascending=False)\n",
    "print('\\nКоэффициенты признаков в оптимальной функции логистической регрессии:')\n",
    "print(features)"
   ]
  },
  {
   "attachments": {},
   "cell_type": "markdown",
   "metadata": {},
   "source": [
    "SVM"
   ]
  },
  {
   "cell_type": "code",
   "execution_count": 12,
   "metadata": {},
   "outputs": [
    {
     "data": {
      "text/html": [
       "<div>\n",
       "<style scoped>\n",
       "    .dataframe tbody tr th:only-of-type {\n",
       "        vertical-align: middle;\n",
       "    }\n",
       "\n",
       "    .dataframe tbody tr th {\n",
       "        vertical-align: top;\n",
       "    }\n",
       "\n",
       "    .dataframe thead th {\n",
       "        text-align: right;\n",
       "    }\n",
       "</style>\n",
       "<table border=\"1\" class=\"dataframe\">\n",
       "  <thead>\n",
       "    <tr style=\"text-align: right;\">\n",
       "      <th></th>\n",
       "      <th>age</th>\n",
       "      <th>sex</th>\n",
       "      <th>cp</th>\n",
       "      <th>trestbps</th>\n",
       "      <th>chol</th>\n",
       "      <th>fbs</th>\n",
       "      <th>restecg</th>\n",
       "      <th>thalach</th>\n",
       "      <th>exang</th>\n",
       "      <th>oldpeak</th>\n",
       "      <th>slope</th>\n",
       "      <th>ca</th>\n",
       "      <th>thal</th>\n",
       "    </tr>\n",
       "  </thead>\n",
       "  <tbody>\n",
       "    <tr>\n",
       "      <th>count</th>\n",
       "      <td>7.760000e+02</td>\n",
       "      <td>7.760000e+02</td>\n",
       "      <td>7.760000e+02</td>\n",
       "      <td>7.760000e+02</td>\n",
       "      <td>7.760000e+02</td>\n",
       "      <td>7.760000e+02</td>\n",
       "      <td>7.760000e+02</td>\n",
       "      <td>7.760000e+02</td>\n",
       "      <td>7.760000e+02</td>\n",
       "      <td>7.760000e+02</td>\n",
       "      <td>7.760000e+02</td>\n",
       "      <td>7.760000e+02</td>\n",
       "      <td>7.760000e+02</td>\n",
       "    </tr>\n",
       "    <tr>\n",
       "      <th>mean</th>\n",
       "      <td>-2.220446e-16</td>\n",
       "      <td>-1.259016e-16</td>\n",
       "      <td>1.030104e-17</td>\n",
       "      <td>6.100504e-16</td>\n",
       "      <td>9.385391e-17</td>\n",
       "      <td>4.578239e-17</td>\n",
       "      <td>5.493887e-17</td>\n",
       "      <td>-1.281907e-16</td>\n",
       "      <td>4.120415e-17</td>\n",
       "      <td>-1.144560e-17</td>\n",
       "      <td>6.066167e-17</td>\n",
       "      <td>-2.060208e-17</td>\n",
       "      <td>3.891503e-16</td>\n",
       "    </tr>\n",
       "    <tr>\n",
       "      <th>std</th>\n",
       "      <td>1.000645e+00</td>\n",
       "      <td>1.000645e+00</td>\n",
       "      <td>1.000645e+00</td>\n",
       "      <td>1.000645e+00</td>\n",
       "      <td>1.000645e+00</td>\n",
       "      <td>1.000645e+00</td>\n",
       "      <td>1.000645e+00</td>\n",
       "      <td>1.000645e+00</td>\n",
       "      <td>1.000645e+00</td>\n",
       "      <td>1.000645e+00</td>\n",
       "      <td>1.000645e+00</td>\n",
       "      <td>1.000645e+00</td>\n",
       "      <td>1.000645e+00</td>\n",
       "    </tr>\n",
       "    <tr>\n",
       "      <th>min</th>\n",
       "      <td>-2.747958e+00</td>\n",
       "      <td>-1.550325e+00</td>\n",
       "      <td>-9.222022e-01</td>\n",
       "      <td>-2.149574e+00</td>\n",
       "      <td>-2.316928e+00</td>\n",
       "      <td>-4.064052e-01</td>\n",
       "      <td>-1.016387e+00</td>\n",
       "      <td>-3.376479e+00</td>\n",
       "      <td>-7.057404e-01</td>\n",
       "      <td>-9.165836e-01</td>\n",
       "      <td>-2.300070e+00</td>\n",
       "      <td>-7.313445e-01</td>\n",
       "      <td>-3.715163e+00</td>\n",
       "    </tr>\n",
       "    <tr>\n",
       "      <th>25%</th>\n",
       "      <td>-7.927098e-01</td>\n",
       "      <td>-1.550325e+00</td>\n",
       "      <td>-9.222022e-01</td>\n",
       "      <td>-6.529799e-01</td>\n",
       "      <td>-6.872700e-01</td>\n",
       "      <td>-4.064052e-01</td>\n",
       "      <td>-1.016387e+00</td>\n",
       "      <td>-7.460252e-01</td>\n",
       "      <td>-7.057404e-01</td>\n",
       "      <td>-9.165836e-01</td>\n",
       "      <td>-6.412833e-01</td>\n",
       "      <td>-7.313445e-01</td>\n",
       "      <td>-4.993610e-01</td>\n",
       "    </tr>\n",
       "    <tr>\n",
       "      <th>50%</th>\n",
       "      <td>7.628939e-02</td>\n",
       "      <td>6.450259e-01</td>\n",
       "      <td>4.880039e-02</td>\n",
       "      <td>-7.736658e-02</td>\n",
       "      <td>-1.181057e-01</td>\n",
       "      <td>-4.064052e-01</td>\n",
       "      <td>8.750191e-01</td>\n",
       "      <td>1.164188e-01</td>\n",
       "      <td>-7.057404e-01</td>\n",
       "      <td>-2.251082e-01</td>\n",
       "      <td>-6.412833e-01</td>\n",
       "      <td>-7.313445e-01</td>\n",
       "      <td>-4.993610e-01</td>\n",
       "    </tr>\n",
       "    <tr>\n",
       "      <th>75%</th>\n",
       "      <td>7.280388e-01</td>\n",
       "      <td>6.450259e-01</td>\n",
       "      <td>1.019803e+00</td>\n",
       "      <td>4.982467e-01</td>\n",
       "      <td>5.824041e-01</td>\n",
       "      <td>-4.064052e-01</td>\n",
       "      <td>8.750191e-01</td>\n",
       "      <td>8.063741e-01</td>\n",
       "      <td>1.416952e+00</td>\n",
       "      <td>6.392360e-01</td>\n",
       "      <td>1.017503e+00</td>\n",
       "      <td>2.471440e-01</td>\n",
       "      <td>1.108540e+00</td>\n",
       "    </tr>\n",
       "    <tr>\n",
       "      <th>max</th>\n",
       "      <td>2.466037e+00</td>\n",
       "      <td>6.450259e-01</td>\n",
       "      <td>1.990806e+00</td>\n",
       "      <td>3.951926e+00</td>\n",
       "      <td>6.205942e+00</td>\n",
       "      <td>2.460599e+00</td>\n",
       "      <td>2.766425e+00</td>\n",
       "      <td>2.272529e+00</td>\n",
       "      <td>1.416952e+00</td>\n",
       "      <td>4.442351e+00</td>\n",
       "      <td>1.017503e+00</td>\n",
       "      <td>3.182610e+00</td>\n",
       "      <td>1.108540e+00</td>\n",
       "    </tr>\n",
       "  </tbody>\n",
       "</table>\n",
       "</div>"
      ],
      "text/plain": [
       "                age           sex            cp      trestbps          chol  \\\n",
       "count  7.760000e+02  7.760000e+02  7.760000e+02  7.760000e+02  7.760000e+02   \n",
       "mean  -2.220446e-16 -1.259016e-16  1.030104e-17  6.100504e-16  9.385391e-17   \n",
       "std    1.000645e+00  1.000645e+00  1.000645e+00  1.000645e+00  1.000645e+00   \n",
       "min   -2.747958e+00 -1.550325e+00 -9.222022e-01 -2.149574e+00 -2.316928e+00   \n",
       "25%   -7.927098e-01 -1.550325e+00 -9.222022e-01 -6.529799e-01 -6.872700e-01   \n",
       "50%    7.628939e-02  6.450259e-01  4.880039e-02 -7.736658e-02 -1.181057e-01   \n",
       "75%    7.280388e-01  6.450259e-01  1.019803e+00  4.982467e-01  5.824041e-01   \n",
       "max    2.466037e+00  6.450259e-01  1.990806e+00  3.951926e+00  6.205942e+00   \n",
       "\n",
       "                fbs       restecg       thalach         exang       oldpeak  \\\n",
       "count  7.760000e+02  7.760000e+02  7.760000e+02  7.760000e+02  7.760000e+02   \n",
       "mean   4.578239e-17  5.493887e-17 -1.281907e-16  4.120415e-17 -1.144560e-17   \n",
       "std    1.000645e+00  1.000645e+00  1.000645e+00  1.000645e+00  1.000645e+00   \n",
       "min   -4.064052e-01 -1.016387e+00 -3.376479e+00 -7.057404e-01 -9.165836e-01   \n",
       "25%   -4.064052e-01 -1.016387e+00 -7.460252e-01 -7.057404e-01 -9.165836e-01   \n",
       "50%   -4.064052e-01  8.750191e-01  1.164188e-01 -7.057404e-01 -2.251082e-01   \n",
       "75%   -4.064052e-01  8.750191e-01  8.063741e-01  1.416952e+00  6.392360e-01   \n",
       "max    2.460599e+00  2.766425e+00  2.272529e+00  1.416952e+00  4.442351e+00   \n",
       "\n",
       "              slope            ca          thal  \n",
       "count  7.760000e+02  7.760000e+02  7.760000e+02  \n",
       "mean   6.066167e-17 -2.060208e-17  3.891503e-16  \n",
       "std    1.000645e+00  1.000645e+00  1.000645e+00  \n",
       "min   -2.300070e+00 -7.313445e-01 -3.715163e+00  \n",
       "25%   -6.412833e-01 -7.313445e-01 -4.993610e-01  \n",
       "50%   -6.412833e-01 -7.313445e-01 -4.993610e-01  \n",
       "75%    1.017503e+00  2.471440e-01  1.108540e+00  \n",
       "max    1.017503e+00  3.182610e+00  1.108540e+00  "
      ]
     },
     "execution_count": 12,
     "metadata": {},
     "output_type": "execute_result"
    }
   ],
   "source": [
    "scaler = StandardScaler().fit(x_train)\n",
    "x_train_scaled = pd.DataFrame(scaler.transform(x_train), columns=x_train.columns)\n",
    "x_test_scaled = pd.DataFrame(scaler.transform(x_test), columns=x_train.columns)\n",
    "x_train_scaled.describe()"
   ]
  },
  {
   "cell_type": "code",
   "execution_count": 13,
   "metadata": {},
   "outputs": [
    {
     "data": {
      "text/html": [
       "<style>#sk-container-id-1 {color: black;background-color: white;}#sk-container-id-1 pre{padding: 0;}#sk-container-id-1 div.sk-toggleable {background-color: white;}#sk-container-id-1 label.sk-toggleable__label {cursor: pointer;display: block;width: 100%;margin-bottom: 0;padding: 0.3em;box-sizing: border-box;text-align: center;}#sk-container-id-1 label.sk-toggleable__label-arrow:before {content: \"▸\";float: left;margin-right: 0.25em;color: #696969;}#sk-container-id-1 label.sk-toggleable__label-arrow:hover:before {color: black;}#sk-container-id-1 div.sk-estimator:hover label.sk-toggleable__label-arrow:before {color: black;}#sk-container-id-1 div.sk-toggleable__content {max-height: 0;max-width: 0;overflow: hidden;text-align: left;background-color: #f0f8ff;}#sk-container-id-1 div.sk-toggleable__content pre {margin: 0.2em;color: black;border-radius: 0.25em;background-color: #f0f8ff;}#sk-container-id-1 input.sk-toggleable__control:checked~div.sk-toggleable__content {max-height: 200px;max-width: 100%;overflow: auto;}#sk-container-id-1 input.sk-toggleable__control:checked~label.sk-toggleable__label-arrow:before {content: \"▾\";}#sk-container-id-1 div.sk-estimator input.sk-toggleable__control:checked~label.sk-toggleable__label {background-color: #d4ebff;}#sk-container-id-1 div.sk-label input.sk-toggleable__control:checked~label.sk-toggleable__label {background-color: #d4ebff;}#sk-container-id-1 input.sk-hidden--visually {border: 0;clip: rect(1px 1px 1px 1px);clip: rect(1px, 1px, 1px, 1px);height: 1px;margin: -1px;overflow: hidden;padding: 0;position: absolute;width: 1px;}#sk-container-id-1 div.sk-estimator {font-family: monospace;background-color: #f0f8ff;border: 1px dotted black;border-radius: 0.25em;box-sizing: border-box;margin-bottom: 0.5em;}#sk-container-id-1 div.sk-estimator:hover {background-color: #d4ebff;}#sk-container-id-1 div.sk-parallel-item::after {content: \"\";width: 100%;border-bottom: 1px solid gray;flex-grow: 1;}#sk-container-id-1 div.sk-label:hover label.sk-toggleable__label {background-color: #d4ebff;}#sk-container-id-1 div.sk-serial::before {content: \"\";position: absolute;border-left: 1px solid gray;box-sizing: border-box;top: 0;bottom: 0;left: 50%;z-index: 0;}#sk-container-id-1 div.sk-serial {display: flex;flex-direction: column;align-items: center;background-color: white;padding-right: 0.2em;padding-left: 0.2em;position: relative;}#sk-container-id-1 div.sk-item {position: relative;z-index: 1;}#sk-container-id-1 div.sk-parallel {display: flex;align-items: stretch;justify-content: center;background-color: white;position: relative;}#sk-container-id-1 div.sk-item::before, #sk-container-id-1 div.sk-parallel-item::before {content: \"\";position: absolute;border-left: 1px solid gray;box-sizing: border-box;top: 0;bottom: 0;left: 50%;z-index: -1;}#sk-container-id-1 div.sk-parallel-item {display: flex;flex-direction: column;z-index: 1;position: relative;background-color: white;}#sk-container-id-1 div.sk-parallel-item:first-child::after {align-self: flex-end;width: 50%;}#sk-container-id-1 div.sk-parallel-item:last-child::after {align-self: flex-start;width: 50%;}#sk-container-id-1 div.sk-parallel-item:only-child::after {width: 0;}#sk-container-id-1 div.sk-dashed-wrapped {border: 1px dashed gray;margin: 0 0.4em 0.5em 0.4em;box-sizing: border-box;padding-bottom: 0.4em;background-color: white;}#sk-container-id-1 div.sk-label label {font-family: monospace;font-weight: bold;display: inline-block;line-height: 1.2em;}#sk-container-id-1 div.sk-label-container {text-align: center;}#sk-container-id-1 div.sk-container {/* jupyter's `normalize.less` sets `[hidden] { display: none; }` but bootstrap.min.css set `[hidden] { display: none !important; }` so we also need the `!important` here to be able to override the default hidden behavior on the sphinx rendered scikit-learn.org. See: https://github.com/scikit-learn/scikit-learn/issues/21755 */display: inline-block !important;position: relative;}#sk-container-id-1 div.sk-text-repr-fallback {display: none;}</style><div id=\"sk-container-id-1\" class=\"sk-top-container\"><div class=\"sk-text-repr-fallback\"><pre>NuSVR(nu=0.7)</pre><b>In a Jupyter environment, please rerun this cell to show the HTML representation or trust the notebook. <br />On GitHub, the HTML representation is unable to render, please try loading this page with nbviewer.org.</b></div><div class=\"sk-container\" hidden><div class=\"sk-item\"><div class=\"sk-estimator sk-toggleable\"><input class=\"sk-toggleable__control sk-hidden--visually\" id=\"sk-estimator-id-1\" type=\"checkbox\" checked><label for=\"sk-estimator-id-1\" class=\"sk-toggleable__label sk-toggleable__label-arrow\">NuSVR</label><div class=\"sk-toggleable__content\"><pre>NuSVR(nu=0.7)</pre></div></div></div></div></div>"
      ],
      "text/plain": [
       "NuSVR(nu=0.7)"
      ]
     },
     "execution_count": 13,
     "metadata": {},
     "output_type": "execute_result"
    }
   ],
   "source": [
    "nusvr_05 = NuSVR(nu=0.7, gamma = 'scale')\n",
    "nusvr_05.fit(x_train, y_train)"
   ]
  },
  {
   "attachments": {},
   "cell_type": "markdown",
   "metadata": {},
   "source": [
    "Дерево решений"
   ]
  },
  {
   "cell_type": "code",
   "execution_count": 14,
   "metadata": {},
   "outputs": [
    {
     "data": {
      "text/html": [
       "<style>#sk-container-id-2 {color: black;background-color: white;}#sk-container-id-2 pre{padding: 0;}#sk-container-id-2 div.sk-toggleable {background-color: white;}#sk-container-id-2 label.sk-toggleable__label {cursor: pointer;display: block;width: 100%;margin-bottom: 0;padding: 0.3em;box-sizing: border-box;text-align: center;}#sk-container-id-2 label.sk-toggleable__label-arrow:before {content: \"▸\";float: left;margin-right: 0.25em;color: #696969;}#sk-container-id-2 label.sk-toggleable__label-arrow:hover:before {color: black;}#sk-container-id-2 div.sk-estimator:hover label.sk-toggleable__label-arrow:before {color: black;}#sk-container-id-2 div.sk-toggleable__content {max-height: 0;max-width: 0;overflow: hidden;text-align: left;background-color: #f0f8ff;}#sk-container-id-2 div.sk-toggleable__content pre {margin: 0.2em;color: black;border-radius: 0.25em;background-color: #f0f8ff;}#sk-container-id-2 input.sk-toggleable__control:checked~div.sk-toggleable__content {max-height: 200px;max-width: 100%;overflow: auto;}#sk-container-id-2 input.sk-toggleable__control:checked~label.sk-toggleable__label-arrow:before {content: \"▾\";}#sk-container-id-2 div.sk-estimator input.sk-toggleable__control:checked~label.sk-toggleable__label {background-color: #d4ebff;}#sk-container-id-2 div.sk-label input.sk-toggleable__control:checked~label.sk-toggleable__label {background-color: #d4ebff;}#sk-container-id-2 input.sk-hidden--visually {border: 0;clip: rect(1px 1px 1px 1px);clip: rect(1px, 1px, 1px, 1px);height: 1px;margin: -1px;overflow: hidden;padding: 0;position: absolute;width: 1px;}#sk-container-id-2 div.sk-estimator {font-family: monospace;background-color: #f0f8ff;border: 1px dotted black;border-radius: 0.25em;box-sizing: border-box;margin-bottom: 0.5em;}#sk-container-id-2 div.sk-estimator:hover {background-color: #d4ebff;}#sk-container-id-2 div.sk-parallel-item::after {content: \"\";width: 100%;border-bottom: 1px solid gray;flex-grow: 1;}#sk-container-id-2 div.sk-label:hover label.sk-toggleable__label {background-color: #d4ebff;}#sk-container-id-2 div.sk-serial::before {content: \"\";position: absolute;border-left: 1px solid gray;box-sizing: border-box;top: 0;bottom: 0;left: 50%;z-index: 0;}#sk-container-id-2 div.sk-serial {display: flex;flex-direction: column;align-items: center;background-color: white;padding-right: 0.2em;padding-left: 0.2em;position: relative;}#sk-container-id-2 div.sk-item {position: relative;z-index: 1;}#sk-container-id-2 div.sk-parallel {display: flex;align-items: stretch;justify-content: center;background-color: white;position: relative;}#sk-container-id-2 div.sk-item::before, #sk-container-id-2 div.sk-parallel-item::before {content: \"\";position: absolute;border-left: 1px solid gray;box-sizing: border-box;top: 0;bottom: 0;left: 50%;z-index: -1;}#sk-container-id-2 div.sk-parallel-item {display: flex;flex-direction: column;z-index: 1;position: relative;background-color: white;}#sk-container-id-2 div.sk-parallel-item:first-child::after {align-self: flex-end;width: 50%;}#sk-container-id-2 div.sk-parallel-item:last-child::after {align-self: flex-start;width: 50%;}#sk-container-id-2 div.sk-parallel-item:only-child::after {width: 0;}#sk-container-id-2 div.sk-dashed-wrapped {border: 1px dashed gray;margin: 0 0.4em 0.5em 0.4em;box-sizing: border-box;padding-bottom: 0.4em;background-color: white;}#sk-container-id-2 div.sk-label label {font-family: monospace;font-weight: bold;display: inline-block;line-height: 1.2em;}#sk-container-id-2 div.sk-label-container {text-align: center;}#sk-container-id-2 div.sk-container {/* jupyter's `normalize.less` sets `[hidden] { display: none; }` but bootstrap.min.css set `[hidden] { display: none !important; }` so we also need the `!important` here to be able to override the default hidden behavior on the sphinx rendered scikit-learn.org. See: https://github.com/scikit-learn/scikit-learn/issues/21755 */display: inline-block !important;position: relative;}#sk-container-id-2 div.sk-text-repr-fallback {display: none;}</style><div id=\"sk-container-id-2\" class=\"sk-top-container\"><div class=\"sk-text-repr-fallback\"><pre>DecisionTreeRegressor(max_depth=3)</pre><b>In a Jupyter environment, please rerun this cell to show the HTML representation or trust the notebook. <br />On GitHub, the HTML representation is unable to render, please try loading this page with nbviewer.org.</b></div><div class=\"sk-container\" hidden><div class=\"sk-item\"><div class=\"sk-estimator sk-toggleable\"><input class=\"sk-toggleable__control sk-hidden--visually\" id=\"sk-estimator-id-2\" type=\"checkbox\" checked><label for=\"sk-estimator-id-2\" class=\"sk-toggleable__label sk-toggleable__label-arrow\">DecisionTreeRegressor</label><div class=\"sk-toggleable__content\"><pre>DecisionTreeRegressor(max_depth=3)</pre></div></div></div></div></div>"
      ],
      "text/plain": [
       "DecisionTreeRegressor(max_depth=3)"
      ]
     },
     "execution_count": 14,
     "metadata": {},
     "output_type": "execute_result"
    }
   ],
   "source": [
    "dt_none = DecisionTreeRegressor(max_depth=3)\n",
    "dt_none.fit(x_train, y_train)"
   ]
  },
  {
   "cell_type": "code",
   "execution_count": 15,
   "metadata": {},
   "outputs": [
    {
     "data": {
      "text/plain": [
       "[Text(0.5, 0.875, 'X[2] <= 0.5\\nsquared_error = 0.249\\nsamples = 776\\nvalue = 0.524'),\n",
       " Text(0.25, 0.625, 'X[11] <= 0.5\\nsquared_error = 0.194\\nsamples = 372\\nvalue = 0.263'),\n",
       " Text(0.125, 0.375, 'X[12] <= 2.5\\nsquared_error = 0.249\\nsamples = 162\\nvalue = 0.531'),\n",
       " Text(0.0625, 0.125, 'squared_error = 0.182\\nsamples = 100\\nvalue = 0.76'),\n",
       " Text(0.1875, 0.125, 'squared_error = 0.135\\nsamples = 62\\nvalue = 0.161'),\n",
       " Text(0.375, 0.375, 'X[9] <= 0.45\\nsquared_error = 0.054\\nsamples = 210\\nvalue = 0.057'),\n",
       " Text(0.3125, 0.125, 'squared_error = 0.158\\nsamples = 51\\nvalue = 0.196'),\n",
       " Text(0.4375, 0.125, 'squared_error = 0.012\\nsamples = 159\\nvalue = 0.013'),\n",
       " Text(0.75, 0.625, 'X[12] <= 2.5\\nsquared_error = 0.18\\nsamples = 404\\nvalue = 0.765'),\n",
       " Text(0.625, 0.375, 'X[0] <= 55.5\\nsquared_error = 0.122\\nsamples = 302\\nvalue = 0.858'),\n",
       " Text(0.5625, 0.125, 'squared_error = 0.04\\nsamples = 190\\nvalue = 0.958'),\n",
       " Text(0.6875, 0.125, 'squared_error = 0.215\\nsamples = 112\\nvalue = 0.688'),\n",
       " Text(0.875, 0.375, 'X[7] <= 142.5\\nsquared_error = 0.25\\nsamples = 102\\nvalue = 0.49'),\n",
       " Text(0.8125, 0.125, 'squared_error = 0.042\\nsamples = 23\\nvalue = 0.043'),\n",
       " Text(0.9375, 0.125, 'squared_error = 0.236\\nsamples = 79\\nvalue = 0.62')]"
      ]
     },
     "execution_count": 15,
     "metadata": {},
     "output_type": "execute_result"
    },
    {
     "data": {
      "image/png": "[encoded data removed]",
      "text/plain": [
       "<Figure size 640x480 with 1 Axes>"
      ]
     },
     "metadata": {},
     "output_type": "display_data"
    }
   ],
   "source": [
    "tree.plot_tree(dt_none)"
   ]
  },
  {
   "cell_type": "code",
   "execution_count": 16,
   "metadata": {},
   "outputs": [
    {
     "data": {
      "text/html": [
       "<style>#sk-container-id-3 {color: black;background-color: white;}#sk-container-id-3 pre{padding: 0;}#sk-container-id-3 div.sk-toggleable {background-color: white;}#sk-container-id-3 label.sk-toggleable__label {cursor: pointer;display: block;width: 100%;margin-bottom: 0;padding: 0.3em;box-sizing: border-box;text-align: center;}#sk-container-id-3 label.sk-toggleable__label-arrow:before {content: \"▸\";float: left;margin-right: 0.25em;color: #696969;}#sk-container-id-3 label.sk-toggleable__label-arrow:hover:before {color: black;}#sk-container-id-3 div.sk-estimator:hover label.sk-toggleable__label-arrow:before {color: black;}#sk-container-id-3 div.sk-toggleable__content {max-height: 0;max-width: 0;overflow: hidden;text-align: left;background-color: #f0f8ff;}#sk-container-id-3 div.sk-toggleable__content pre {margin: 0.2em;color: black;border-radius: 0.25em;background-color: #f0f8ff;}#sk-container-id-3 input.sk-toggleable__control:checked~div.sk-toggleable__content {max-height: 200px;max-width: 100%;overflow: auto;}#sk-container-id-3 input.sk-toggleable__control:checked~label.sk-toggleable__label-arrow:before {content: \"▾\";}#sk-container-id-3 div.sk-estimator input.sk-toggleable__control:checked~label.sk-toggleable__label {background-color: #d4ebff;}#sk-container-id-3 div.sk-label input.sk-toggleable__control:checked~label.sk-toggleable__label {background-color: #d4ebff;}#sk-container-id-3 input.sk-hidden--visually {border: 0;clip: rect(1px 1px 1px 1px);clip: rect(1px, 1px, 1px, 1px);height: 1px;margin: -1px;overflow: hidden;padding: 0;position: absolute;width: 1px;}#sk-container-id-3 div.sk-estimator {font-family: monospace;background-color: #f0f8ff;border: 1px dotted black;border-radius: 0.25em;box-sizing: border-box;margin-bottom: 0.5em;}#sk-container-id-3 div.sk-estimator:hover {background-color: #d4ebff;}#sk-container-id-3 div.sk-parallel-item::after {content: \"\";width: 100%;border-bottom: 1px solid gray;flex-grow: 1;}#sk-container-id-3 div.sk-label:hover label.sk-toggleable__label {background-color: #d4ebff;}#sk-container-id-3 div.sk-serial::before {content: \"\";position: absolute;border-left: 1px solid gray;box-sizing: border-box;top: 0;bottom: 0;left: 50%;z-index: 0;}#sk-container-id-3 div.sk-serial {display: flex;flex-direction: column;align-items: center;background-color: white;padding-right: 0.2em;padding-left: 0.2em;position: relative;}#sk-container-id-3 div.sk-item {position: relative;z-index: 1;}#sk-container-id-3 div.sk-parallel {display: flex;align-items: stretch;justify-content: center;background-color: white;position: relative;}#sk-container-id-3 div.sk-item::before, #sk-container-id-3 div.sk-parallel-item::before {content: \"\";position: absolute;border-left: 1px solid gray;box-sizing: border-box;top: 0;bottom: 0;left: 50%;z-index: -1;}#sk-container-id-3 div.sk-parallel-item {display: flex;flex-direction: column;z-index: 1;position: relative;background-color: white;}#sk-container-id-3 div.sk-parallel-item:first-child::after {align-self: flex-end;width: 50%;}#sk-container-id-3 div.sk-parallel-item:last-child::after {align-self: flex-start;width: 50%;}#sk-container-id-3 div.sk-parallel-item:only-child::after {width: 0;}#sk-container-id-3 div.sk-dashed-wrapped {border: 1px dashed gray;margin: 0 0.4em 0.5em 0.4em;box-sizing: border-box;padding-bottom: 0.4em;background-color: white;}#sk-container-id-3 div.sk-label label {font-family: monospace;font-weight: bold;display: inline-block;line-height: 1.2em;}#sk-container-id-3 div.sk-label-container {text-align: center;}#sk-container-id-3 div.sk-container {/* jupyter's `normalize.less` sets `[hidden] { display: none; }` but bootstrap.min.css set `[hidden] { display: none !important; }` so we also need the `!important` here to be able to override the default hidden behavior on the sphinx rendered scikit-learn.org. See: https://github.com/scikit-learn/scikit-learn/issues/21755 */display: inline-block !important;position: relative;}#sk-container-id-3 div.sk-text-repr-fallback {display: none;}</style><div id=\"sk-container-id-3\" class=\"sk-top-container\"><div class=\"sk-text-repr-fallback\"><pre>DecisionTreeClassifier(random_state=1)</pre><b>In a Jupyter environment, please rerun this cell to show the HTML representation or trust the notebook. <br />On GitHub, the HTML representation is unable to render, please try loading this page with nbviewer.org.</b></div><div class=\"sk-container\" hidden><div class=\"sk-item\"><div class=\"sk-estimator sk-toggleable\"><input class=\"sk-toggleable__control sk-hidden--visually\" id=\"sk-estimator-id-3\" type=\"checkbox\" checked><label for=\"sk-estimator-id-3\" class=\"sk-toggleable__label sk-toggleable__label-arrow\">DecisionTreeClassifier</label><div class=\"sk-toggleable__content\"><pre>DecisionTreeClassifier(random_state=1)</pre></div></div></div></div></div>"
      ],
      "text/plain": [
       "DecisionTreeClassifier(random_state=1)"
      ]
     },
     "execution_count": 16,
     "metadata": {},
     "output_type": "execute_result"
    }
   ],
   "source": [
    "clf = DecisionTreeClassifier(random_state=1)\n",
    "clf.fit(x_train, y_train)"
   ]
  },
  {
   "cell_type": "code",
   "execution_count": 17,
   "metadata": {},
   "outputs": [],
   "source": [
    "def test_model(model):\n",
    "    print(\"mean_absolute_error:\",\n",
    "          mean_absolute_error(y_test, model.predict(x_test)))\n",
    "    print(\"median_absolute_error:\",\n",
    "          median_absolute_error(y_test, model.predict(x_test)))\n",
    "    print(\"r2_score:\",\n",
    "          r2_score(y_test, model.predict(x_test)))"
   ]
  },
  {
   "cell_type": "code",
   "execution_count": 18,
   "metadata": {},
   "outputs": [
    {
     "name": "stdout",
     "output_type": "stream",
     "text": [
      "mean_absolute_error: 0.2418916759600623\n",
      "median_absolute_error: 0.16129032258064516\n",
      "r2_score: 0.49883997208584596\n"
     ]
    }
   ],
   "source": [
    "test_model(dt_none)"
   ]
  },
  {
   "cell_type": "code",
   "execution_count": 19,
   "metadata": {},
   "outputs": [
    {
     "data": {
      "text/html": [
       "<pre>|--- cp <= 0.50\n",
       "|   |--- ca <= 0.50\n",
       "|   |   |--- thal <= 2.50\n",
       "|   |   |   |--- value: [0.76]\n",
       "|   |   |--- thal >  2.50\n",
       "|   |   |   |--- value: [0.16]\n",
       "|   |--- ca >  0.50\n",
       "|   |   |--- oldpeak <= 0.45\n",
       "|   |   |   |--- value: [0.20]\n",
       "|   |   |--- oldpeak >  0.45\n",
       "|   |   |   |--- value: [0.01]\n",
       "|--- cp >  0.50\n",
       "|   |--- thal <= 2.50\n",
       "|   |   |--- age <= 55.50\n",
       "|   |   |   |--- value: [0.96]\n",
       "|   |   |--- age >  55.50\n",
       "|   |   |   |--- value: [0.69]\n",
       "|   |--- thal >  2.50\n",
       "|   |   |--- thalach <= 142.50\n",
       "|   |   |   |--- value: [0.04]\n",
       "|   |   |--- thalach >  142.50\n",
       "|   |   |   |--- value: [0.62]\n",
       "</pre>"
      ],
      "text/plain": [
       "<IPython.core.display.HTML object>"
      ]
     },
     "execution_count": 19,
     "metadata": {},
     "output_type": "execute_result"
    }
   ],
   "source": [
    "from IPython.core.display import HTML\n",
    "from sklearn.tree import export_text\n",
    "tree_rules = export_text(dt_none, feature_names=list(x.columns))\n",
    "HTML('<pre>' + tree_rules + '</pre>')"
   ]
  },
  {
   "attachments": {},
   "cell_type": "markdown",
   "metadata": {},
   "source": [
    "Важность признаков"
   ]
  },
  {
   "cell_type": "code",
   "execution_count": 20,
   "metadata": {},
   "outputs": [
    {
     "data": {
      "text/plain": [
       "[('age', 0.06562167477441155),\n",
       " ('sex', 0.04979063143245041),\n",
       " ('cp', 0.25158838918177073),\n",
       " ('trestbps', 0.04825668263104428),\n",
       " ('chol', 0.07754156456405308),\n",
       " ('fbs', 0.0),\n",
       " ('restecg', 0.020688807036129974),\n",
       " ('thalach', 0.06417741741726589),\n",
       " ('exang', 0.027409950222518895),\n",
       " ('oldpeak', 0.08354117577481869),\n",
       " ('slope', 0.03519215161155084),\n",
       " ('ca', 0.1521219070397693),\n",
       " ('thal', 0.12406964831421628)]"
      ]
     },
     "execution_count": 20,
     "metadata": {},
     "output_type": "execute_result"
    }
   ],
   "source": [
    "list(zip(x_train.columns.values, clf.feature_importances_))\n"
   ]
  },
  {
   "cell_type": "code",
   "execution_count": 21,
   "metadata": {},
   "outputs": [],
   "source": [
    "from operator import itemgetter\n",
    "\n",
    "def draw_feature_importances(tree_model, x_dataset, figsize=(18,5)):\n",
    "    \"\"\"\n",
    "    Вывод важности признаков в виде графика\n",
    "    \"\"\"\n",
    "    # Сортировка значений важности признаков по убыванию\n",
    "    list_to_sort = list(zip(x_dataset.columns.values, tree_model.feature_importances_))\n",
    "    sorted_list = sorted(list_to_sort, key=itemgetter(1), reverse = True)\n",
    "    # Названия признаков\n",
    "    labels = [x for x,_ in sorted_list]\n",
    "    # Важности признаков\n",
    "    data = [x for _,x in sorted_list]\n",
    "    # Вывод графика\n",
    "    fig, ax = plt.subplots(figsize=figsize)\n",
    "    ind = np.arange(len(labels))\n",
    "    plt.bar(ind, data)\n",
    "    plt.xticks(ind, labels, rotation='vertical')\n",
    "    # Вывод значений\n",
    "    for a,b in zip(ind, data):\n",
    "        plt.text(a-0.05, b+0.01, str(round(b,3)))\n",
    "    plt.show()\n",
    "    return labels, data"
   ]
  },
  {
   "cell_type": "code",
   "execution_count": 22,
   "metadata": {},
   "outputs": [
    {
     "data": {
      "image/png": "[encoded data removed]",
      "text/plain": [
       "<Figure size 1800x500 with 1 Axes>"
      ]
     },
     "metadata": {},
     "output_type": "display_data"
    }
   ],
   "source": [
    "dt_fl, dt_fd = draw_feature_importances(clf, x_train)\n"
   ]
  }
 ],
 "metadata": {
  "kernelspec": {
   "display_name": "Python 3",
   "language": "python",
   "name": "python3"
  },
  "language_info": {
   "codemirror_mode": {
    "name": "ipython",
    "version": 3
   },
   "file_extension": ".py",
   "mimetype": "text/x-python",
   "name": "python",
   "nbconvert_exporter": "python",
   "pygments_lexer": "ipython3",
   "version": "3.9.7"
  },
  "orig_nbformat": 4
 },
 "nbformat": 4,
 "nbformat_minor": 2
}
